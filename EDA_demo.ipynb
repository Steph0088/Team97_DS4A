{
 "cells": [
  {
   "cell_type": "code",
   "execution_count": 2,
   "id": "7ed661ca",
   "metadata": {},
   "outputs": [],
   "source": [
    "import pandas as pd\n",
    "import json\n",
    "import matplotlib.pyplot as plt\n",
    "import seaborn as sns\n",
    "import numpy as np"
   ]
  },
  {
   "cell_type": "code",
   "execution_count": 1,
   "id": "61efb84d",
   "metadata": {},
   "outputs": [
    {
     "name": "stdout",
     "output_type": "stream",
     "text": [
      "Requirement already satisfied: plotly in /Users/stephaniejung/opt/anaconda3/lib/python3.8/site-packages (5.1.0)\n",
      "Requirement already satisfied: six in /Users/stephaniejung/opt/anaconda3/lib/python3.8/site-packages (from plotly) (1.15.0)\n",
      "Requirement already satisfied: tenacity>=6.2.0 in /Users/stephaniejung/opt/anaconda3/lib/python3.8/site-packages (from plotly) (8.0.1)\n",
      "Note: you may need to restart the kernel to use updated packages.\n"
     ]
    }
   ],
   "source": [
    "pip install plotly"
   ]
  },
  {
   "cell_type": "code",
   "execution_count": 3,
   "id": "36a10806",
   "metadata": {},
   "outputs": [],
   "source": [
    "df_demo = pd.read_csv('CLEAN_demo.csv')"
   ]
  },
  {
   "cell_type": "code",
   "execution_count": 4,
   "id": "6176a31f",
   "metadata": {},
   "outputs": [],
   "source": [
    "df_static = pd.read_csv('CLEAN_static.csv')"
   ]
  },
  {
   "cell_type": "code",
   "execution_count": 5,
   "id": "425b71cf",
   "metadata": {},
   "outputs": [],
   "source": [
    "df = pd.read_csv('CLEAN_GVA.csv')"
   ]
  },
  {
   "cell_type": "code",
   "execution_count": 6,
   "id": "a2b75b7d",
   "metadata": {},
   "outputs": [
    {
     "data": {
      "text/html": [
       "<div>\n",
       "<style scoped>\n",
       "    .dataframe tbody tr th:only-of-type {\n",
       "        vertical-align: middle;\n",
       "    }\n",
       "\n",
       "    .dataframe tbody tr th {\n",
       "        vertical-align: top;\n",
       "    }\n",
       "\n",
       "    .dataframe thead th {\n",
       "        text-align: right;\n",
       "    }\n",
       "</style>\n",
       "<table border=\"1\" class=\"dataframe\">\n",
       "  <thead>\n",
       "    <tr style=\"text-align: right;\">\n",
       "      <th></th>\n",
       "      <th>incident_id</th>\n",
       "      <th>age</th>\n",
       "      <th>type</th>\n",
       "      <th>gender</th>\n",
       "      <th>status</th>\n",
       "      <th>gun_stolen</th>\n",
       "      <th>gun_type</th>\n",
       "      <th>date</th>\n",
       "      <th>state</th>\n",
       "      <th>city</th>\n",
       "      <th>number_guns</th>\n",
       "      <th>total_killed</th>\n",
       "      <th>total_injured</th>\n",
       "      <th>year</th>\n",
       "    </tr>\n",
       "  </thead>\n",
       "  <tbody>\n",
       "    <tr>\n",
       "      <th>0</th>\n",
       "      <td>92114</td>\n",
       "      <td>NaN</td>\n",
       "      <td>Victim</td>\n",
       "      <td>Male</td>\n",
       "      <td>Injured</td>\n",
       "      <td>NaN</td>\n",
       "      <td>NaN</td>\n",
       "      <td>2014-01-01</td>\n",
       "      <td>Kentucky</td>\n",
       "      <td>Lexington</td>\n",
       "      <td>NaN</td>\n",
       "      <td>0</td>\n",
       "      <td>1</td>\n",
       "      <td>2014</td>\n",
       "    </tr>\n",
       "    <tr>\n",
       "      <th>1</th>\n",
       "      <td>92117</td>\n",
       "      <td>22.0</td>\n",
       "      <td>Victim</td>\n",
       "      <td>Male</td>\n",
       "      <td>Injured</td>\n",
       "      <td>Unknown</td>\n",
       "      <td>Unknown</td>\n",
       "      <td>2014-01-01</td>\n",
       "      <td>Kentucky</td>\n",
       "      <td>Cynthiana</td>\n",
       "      <td>1.0</td>\n",
       "      <td>0</td>\n",
       "      <td>1</td>\n",
       "      <td>2014</td>\n",
       "    </tr>\n",
       "    <tr>\n",
       "      <th>2</th>\n",
       "      <td>92117</td>\n",
       "      <td>NaN</td>\n",
       "      <td>Subject-Suspect</td>\n",
       "      <td>Male</td>\n",
       "      <td>Unharmed, Arrested</td>\n",
       "      <td>NaN</td>\n",
       "      <td>NaN</td>\n",
       "      <td>2014-01-01</td>\n",
       "      <td>Kentucky</td>\n",
       "      <td>Cynthiana</td>\n",
       "      <td>1.0</td>\n",
       "      <td>0</td>\n",
       "      <td>1</td>\n",
       "      <td>2014</td>\n",
       "    </tr>\n",
       "    <tr>\n",
       "      <th>3</th>\n",
       "      <td>92119</td>\n",
       "      <td>NaN</td>\n",
       "      <td>Victim</td>\n",
       "      <td>Male</td>\n",
       "      <td>Injured</td>\n",
       "      <td>NaN</td>\n",
       "      <td>NaN</td>\n",
       "      <td>2014-01-01</td>\n",
       "      <td>Kentucky</td>\n",
       "      <td>Louisville</td>\n",
       "      <td>NaN</td>\n",
       "      <td>0</td>\n",
       "      <td>1</td>\n",
       "      <td>2014</td>\n",
       "    </tr>\n",
       "    <tr>\n",
       "      <th>4</th>\n",
       "      <td>92122</td>\n",
       "      <td>NaN</td>\n",
       "      <td>Victim</td>\n",
       "      <td>NaN</td>\n",
       "      <td>Unharmed</td>\n",
       "      <td>NaN</td>\n",
       "      <td>NaN</td>\n",
       "      <td>2014-01-01</td>\n",
       "      <td>Virginia</td>\n",
       "      <td>Falls Church</td>\n",
       "      <td>NaN</td>\n",
       "      <td>0</td>\n",
       "      <td>0</td>\n",
       "      <td>2014</td>\n",
       "    </tr>\n",
       "    <tr>\n",
       "      <th>...</th>\n",
       "      <td>...</td>\n",
       "      <td>...</td>\n",
       "      <td>...</td>\n",
       "      <td>...</td>\n",
       "      <td>...</td>\n",
       "      <td>...</td>\n",
       "      <td>...</td>\n",
       "      <td>...</td>\n",
       "      <td>...</td>\n",
       "      <td>...</td>\n",
       "      <td>...</td>\n",
       "      <td>...</td>\n",
       "      <td>...</td>\n",
       "      <td>...</td>\n",
       "    </tr>\n",
       "    <tr>\n",
       "      <th>449782</th>\n",
       "      <td>1083457</td>\n",
       "      <td>NaN</td>\n",
       "      <td>Victim</td>\n",
       "      <td>Male</td>\n",
       "      <td>Injured</td>\n",
       "      <td>Unknown</td>\n",
       "      <td>Unknown</td>\n",
       "      <td>2018-03-22</td>\n",
       "      <td>District of Columbia</td>\n",
       "      <td>Washington</td>\n",
       "      <td>1.0</td>\n",
       "      <td>0</td>\n",
       "      <td>1</td>\n",
       "      <td>2018</td>\n",
       "    </tr>\n",
       "    <tr>\n",
       "      <th>449783</th>\n",
       "      <td>1083457</td>\n",
       "      <td>NaN</td>\n",
       "      <td>Subject-Suspect</td>\n",
       "      <td>Male</td>\n",
       "      <td>Unharmed</td>\n",
       "      <td>NaN</td>\n",
       "      <td>NaN</td>\n",
       "      <td>2018-03-22</td>\n",
       "      <td>District of Columbia</td>\n",
       "      <td>Washington</td>\n",
       "      <td>1.0</td>\n",
       "      <td>0</td>\n",
       "      <td>1</td>\n",
       "      <td>2018</td>\n",
       "    </tr>\n",
       "    <tr>\n",
       "      <th>449784</th>\n",
       "      <td>1083466</td>\n",
       "      <td>NaN</td>\n",
       "      <td>Subject-Suspect</td>\n",
       "      <td>NaN</td>\n",
       "      <td>NaN</td>\n",
       "      <td>Unknown</td>\n",
       "      <td>Unknown</td>\n",
       "      <td>2018-03-29</td>\n",
       "      <td>Ohio</td>\n",
       "      <td>Wickliffe</td>\n",
       "      <td>1.0</td>\n",
       "      <td>0</td>\n",
       "      <td>0</td>\n",
       "      <td>2018</td>\n",
       "    </tr>\n",
       "    <tr>\n",
       "      <th>449785</th>\n",
       "      <td>1083472</td>\n",
       "      <td>23.0</td>\n",
       "      <td>Subject-Suspect</td>\n",
       "      <td>Male</td>\n",
       "      <td>Unharmed, Arrested</td>\n",
       "      <td>Unknown</td>\n",
       "      <td>9mm</td>\n",
       "      <td>2018-03-31</td>\n",
       "      <td>Delaware</td>\n",
       "      <td>Townsend</td>\n",
       "      <td>2.0</td>\n",
       "      <td>0</td>\n",
       "      <td>0</td>\n",
       "      <td>2018</td>\n",
       "    </tr>\n",
       "    <tr>\n",
       "      <th>449786</th>\n",
       "      <td>1083472</td>\n",
       "      <td>20.0</td>\n",
       "      <td>Subject-Suspect</td>\n",
       "      <td>NaN</td>\n",
       "      <td>Unharmed, Arrested</td>\n",
       "      <td>Unknown</td>\n",
       "      <td>9mm</td>\n",
       "      <td>2018-03-31</td>\n",
       "      <td>Delaware</td>\n",
       "      <td>Townsend</td>\n",
       "      <td>2.0</td>\n",
       "      <td>0</td>\n",
       "      <td>0</td>\n",
       "      <td>2018</td>\n",
       "    </tr>\n",
       "  </tbody>\n",
       "</table>\n",
       "<p>449787 rows × 14 columns</p>\n",
       "</div>"
      ],
      "text/plain": [
       "        incident_id   age             type gender              status  \\\n",
       "0             92114   NaN           Victim   Male             Injured   \n",
       "1             92117  22.0           Victim   Male             Injured   \n",
       "2             92117   NaN  Subject-Suspect   Male  Unharmed, Arrested   \n",
       "3             92119   NaN           Victim   Male             Injured   \n",
       "4             92122   NaN           Victim    NaN            Unharmed   \n",
       "...             ...   ...              ...    ...                 ...   \n",
       "449782      1083457   NaN           Victim   Male             Injured   \n",
       "449783      1083457   NaN  Subject-Suspect   Male            Unharmed   \n",
       "449784      1083466   NaN  Subject-Suspect    NaN                 NaN   \n",
       "449785      1083472  23.0  Subject-Suspect   Male  Unharmed, Arrested   \n",
       "449786      1083472  20.0  Subject-Suspect    NaN  Unharmed, Arrested   \n",
       "\n",
       "       gun_stolen gun_type        date                 state          city  \\\n",
       "0             NaN      NaN  2014-01-01              Kentucky     Lexington   \n",
       "1         Unknown  Unknown  2014-01-01              Kentucky     Cynthiana   \n",
       "2             NaN      NaN  2014-01-01              Kentucky     Cynthiana   \n",
       "3             NaN      NaN  2014-01-01              Kentucky    Louisville   \n",
       "4             NaN      NaN  2014-01-01              Virginia  Falls Church   \n",
       "...           ...      ...         ...                   ...           ...   \n",
       "449782    Unknown  Unknown  2018-03-22  District of Columbia    Washington   \n",
       "449783        NaN      NaN  2018-03-22  District of Columbia    Washington   \n",
       "449784    Unknown  Unknown  2018-03-29                  Ohio     Wickliffe   \n",
       "449785    Unknown      9mm  2018-03-31              Delaware      Townsend   \n",
       "449786    Unknown      9mm  2018-03-31              Delaware      Townsend   \n",
       "\n",
       "        number_guns  total_killed  total_injured  year  \n",
       "0               NaN             0              1  2014  \n",
       "1               1.0             0              1  2014  \n",
       "2               1.0             0              1  2014  \n",
       "3               NaN             0              1  2014  \n",
       "4               NaN             0              0  2014  \n",
       "...             ...           ...            ...   ...  \n",
       "449782          1.0             0              1  2018  \n",
       "449783          1.0             0              1  2018  \n",
       "449784          1.0             0              0  2018  \n",
       "449785          2.0             0              0  2018  \n",
       "449786          2.0             0              0  2018  \n",
       "\n",
       "[449787 rows x 14 columns]"
      ]
     },
     "execution_count": 6,
     "metadata": {},
     "output_type": "execute_result"
    }
   ],
   "source": [
    "df"
   ]
  },
  {
   "cell_type": "code",
   "execution_count": 7,
   "id": "e009d025",
   "metadata": {
    "scrolled": false
   },
   "outputs": [
    {
     "data": {
      "text/html": [
       "<div>\n",
       "<style scoped>\n",
       "    .dataframe tbody tr th:only-of-type {\n",
       "        vertical-align: middle;\n",
       "    }\n",
       "\n",
       "    .dataframe tbody tr th {\n",
       "        vertical-align: top;\n",
       "    }\n",
       "\n",
       "    .dataframe thead th {\n",
       "        text-align: right;\n",
       "    }\n",
       "</style>\n",
       "<table border=\"1\" class=\"dataframe\">\n",
       "  <thead>\n",
       "    <tr style=\"text-align: right;\">\n",
       "      <th></th>\n",
       "      <th>incident_id</th>\n",
       "      <th>age</th>\n",
       "      <th>age_group</th>\n",
       "      <th>type</th>\n",
       "      <th>gender</th>\n",
       "      <th>status</th>\n",
       "    </tr>\n",
       "  </thead>\n",
       "  <tbody>\n",
       "    <tr>\n",
       "      <th>0</th>\n",
       "      <td>461105</td>\n",
       "      <td>20.0</td>\n",
       "      <td>Adult 18+</td>\n",
       "      <td>Victim</td>\n",
       "      <td>Male</td>\n",
       "      <td>Arrested</td>\n",
       "    </tr>\n",
       "    <tr>\n",
       "      <th>1</th>\n",
       "      <td>460726</td>\n",
       "      <td>20.0</td>\n",
       "      <td>Adult 18+</td>\n",
       "      <td>Victim</td>\n",
       "      <td>Male</td>\n",
       "      <td>Killed</td>\n",
       "    </tr>\n",
       "    <tr>\n",
       "      <th>2</th>\n",
       "      <td>478855</td>\n",
       "      <td>25.0</td>\n",
       "      <td>Adult 18+</td>\n",
       "      <td>Subject-Suspect</td>\n",
       "      <td>Male</td>\n",
       "      <td>Injured, Unharmed, Arrested</td>\n",
       "    </tr>\n",
       "    <tr>\n",
       "      <th>3</th>\n",
       "      <td>478925</td>\n",
       "      <td>29.0</td>\n",
       "      <td>Adult 18+</td>\n",
       "      <td>Victim</td>\n",
       "      <td>Female</td>\n",
       "      <td>Killed</td>\n",
       "    </tr>\n",
       "    <tr>\n",
       "      <th>4</th>\n",
       "      <td>478959</td>\n",
       "      <td>18.0</td>\n",
       "      <td>Adult 18+</td>\n",
       "      <td>Victim</td>\n",
       "      <td>Female</td>\n",
       "      <td>Injured</td>\n",
       "    </tr>\n",
       "    <tr>\n",
       "      <th>...</th>\n",
       "      <td>...</td>\n",
       "      <td>...</td>\n",
       "      <td>...</td>\n",
       "      <td>...</td>\n",
       "      <td>...</td>\n",
       "      <td>...</td>\n",
       "    </tr>\n",
       "    <tr>\n",
       "      <th>385471</th>\n",
       "      <td>575663</td>\n",
       "      <td>NaN</td>\n",
       "      <td>Adult 18+</td>\n",
       "      <td>Subject-Suspect</td>\n",
       "      <td>Male</td>\n",
       "      <td>Unharmed, Arrested</td>\n",
       "    </tr>\n",
       "    <tr>\n",
       "      <th>385472</th>\n",
       "      <td>577157</td>\n",
       "      <td>19.0</td>\n",
       "      <td>Adult 18+</td>\n",
       "      <td>Victim</td>\n",
       "      <td>Male</td>\n",
       "      <td>Injured</td>\n",
       "    </tr>\n",
       "    <tr>\n",
       "      <th>385473</th>\n",
       "      <td>577157</td>\n",
       "      <td>19.0</td>\n",
       "      <td>Adult 18+</td>\n",
       "      <td>Victim</td>\n",
       "      <td>Male</td>\n",
       "      <td>Injured</td>\n",
       "    </tr>\n",
       "    <tr>\n",
       "      <th>385474</th>\n",
       "      <td>577157</td>\n",
       "      <td>30.0</td>\n",
       "      <td>Adult 18+</td>\n",
       "      <td>Victim</td>\n",
       "      <td>Male</td>\n",
       "      <td>Injured</td>\n",
       "    </tr>\n",
       "    <tr>\n",
       "      <th>385475</th>\n",
       "      <td>577157</td>\n",
       "      <td>29.0</td>\n",
       "      <td>Adult 18+</td>\n",
       "      <td>Victim</td>\n",
       "      <td>Female</td>\n",
       "      <td>Injured</td>\n",
       "    </tr>\n",
       "  </tbody>\n",
       "</table>\n",
       "<p>385476 rows × 6 columns</p>\n",
       "</div>"
      ],
      "text/plain": [
       "        incident_id   age  age_group             type  gender  \\\n",
       "0            461105  20.0  Adult 18+           Victim    Male   \n",
       "1            460726  20.0  Adult 18+           Victim    Male   \n",
       "2            478855  25.0  Adult 18+  Subject-Suspect    Male   \n",
       "3            478925  29.0  Adult 18+           Victim  Female   \n",
       "4            478959  18.0  Adult 18+           Victim  Female   \n",
       "...             ...   ...        ...              ...     ...   \n",
       "385471       575663   NaN  Adult 18+  Subject-Suspect    Male   \n",
       "385472       577157  19.0  Adult 18+           Victim    Male   \n",
       "385473       577157  19.0  Adult 18+           Victim    Male   \n",
       "385474       577157  30.0  Adult 18+           Victim    Male   \n",
       "385475       577157  29.0  Adult 18+           Victim  Female   \n",
       "\n",
       "                             status  \n",
       "0                          Arrested  \n",
       "1                            Killed  \n",
       "2       Injured, Unharmed, Arrested  \n",
       "3                            Killed  \n",
       "4                           Injured  \n",
       "...                             ...  \n",
       "385471           Unharmed, Arrested  \n",
       "385472                      Injured  \n",
       "385473                      Injured  \n",
       "385474                      Injured  \n",
       "385475                      Injured  \n",
       "\n",
       "[385476 rows x 6 columns]"
      ]
     },
     "execution_count": 7,
     "metadata": {},
     "output_type": "execute_result"
    }
   ],
   "source": [
    "df_demo"
   ]
  },
  {
   "cell_type": "code",
   "execution_count": 8,
   "id": "13fa5b36",
   "metadata": {
    "scrolled": true
   },
   "outputs": [
    {
     "data": {
      "text/html": [
       "<div>\n",
       "<style scoped>\n",
       "    .dataframe tbody tr th:only-of-type {\n",
       "        vertical-align: middle;\n",
       "    }\n",
       "\n",
       "    .dataframe tbody tr th {\n",
       "        vertical-align: top;\n",
       "    }\n",
       "\n",
       "    .dataframe thead th {\n",
       "        text-align: right;\n",
       "    }\n",
       "</style>\n",
       "<table border=\"1\" class=\"dataframe\">\n",
       "  <thead>\n",
       "    <tr style=\"text-align: right;\">\n",
       "      <th></th>\n",
       "      <th>incident_id</th>\n",
       "      <th>age</th>\n",
       "      <th>age_group</th>\n",
       "      <th>type</th>\n",
       "      <th>gender</th>\n",
       "      <th>status</th>\n",
       "    </tr>\n",
       "  </thead>\n",
       "  <tbody>\n",
       "    <tr>\n",
       "      <th>0</th>\n",
       "      <td>461105</td>\n",
       "      <td>20.0</td>\n",
       "      <td>Adult 18+</td>\n",
       "      <td>Victim</td>\n",
       "      <td>Male</td>\n",
       "      <td>Arrested</td>\n",
       "    </tr>\n",
       "    <tr>\n",
       "      <th>1</th>\n",
       "      <td>460726</td>\n",
       "      <td>20.0</td>\n",
       "      <td>Adult 18+</td>\n",
       "      <td>Victim</td>\n",
       "      <td>Male</td>\n",
       "      <td>Killed</td>\n",
       "    </tr>\n",
       "    <tr>\n",
       "      <th>2</th>\n",
       "      <td>478855</td>\n",
       "      <td>25.0</td>\n",
       "      <td>Adult 18+</td>\n",
       "      <td>Subject-Suspect</td>\n",
       "      <td>Male</td>\n",
       "      <td>Injured, Unharmed, Arrested</td>\n",
       "    </tr>\n",
       "    <tr>\n",
       "      <th>3</th>\n",
       "      <td>478925</td>\n",
       "      <td>29.0</td>\n",
       "      <td>Adult 18+</td>\n",
       "      <td>Victim</td>\n",
       "      <td>Female</td>\n",
       "      <td>Killed</td>\n",
       "    </tr>\n",
       "    <tr>\n",
       "      <th>4</th>\n",
       "      <td>478959</td>\n",
       "      <td>18.0</td>\n",
       "      <td>Adult 18+</td>\n",
       "      <td>Victim</td>\n",
       "      <td>Female</td>\n",
       "      <td>Injured</td>\n",
       "    </tr>\n",
       "    <tr>\n",
       "      <th>...</th>\n",
       "      <td>...</td>\n",
       "      <td>...</td>\n",
       "      <td>...</td>\n",
       "      <td>...</td>\n",
       "      <td>...</td>\n",
       "      <td>...</td>\n",
       "    </tr>\n",
       "    <tr>\n",
       "      <th>385471</th>\n",
       "      <td>575663</td>\n",
       "      <td>NaN</td>\n",
       "      <td>Adult 18+</td>\n",
       "      <td>Subject-Suspect</td>\n",
       "      <td>Male</td>\n",
       "      <td>Unharmed, Arrested</td>\n",
       "    </tr>\n",
       "    <tr>\n",
       "      <th>385472</th>\n",
       "      <td>577157</td>\n",
       "      <td>19.0</td>\n",
       "      <td>Adult 18+</td>\n",
       "      <td>Victim</td>\n",
       "      <td>Male</td>\n",
       "      <td>Injured</td>\n",
       "    </tr>\n",
       "    <tr>\n",
       "      <th>385473</th>\n",
       "      <td>577157</td>\n",
       "      <td>19.0</td>\n",
       "      <td>Adult 18+</td>\n",
       "      <td>Victim</td>\n",
       "      <td>Male</td>\n",
       "      <td>Injured</td>\n",
       "    </tr>\n",
       "    <tr>\n",
       "      <th>385474</th>\n",
       "      <td>577157</td>\n",
       "      <td>30.0</td>\n",
       "      <td>Adult 18+</td>\n",
       "      <td>Victim</td>\n",
       "      <td>Male</td>\n",
       "      <td>Injured</td>\n",
       "    </tr>\n",
       "    <tr>\n",
       "      <th>385475</th>\n",
       "      <td>577157</td>\n",
       "      <td>29.0</td>\n",
       "      <td>Adult 18+</td>\n",
       "      <td>Victim</td>\n",
       "      <td>Female</td>\n",
       "      <td>Injured</td>\n",
       "    </tr>\n",
       "  </tbody>\n",
       "</table>\n",
       "<p>385476 rows × 6 columns</p>\n",
       "</div>"
      ],
      "text/plain": [
       "        incident_id   age  age_group             type  gender  \\\n",
       "0            461105  20.0  Adult 18+           Victim    Male   \n",
       "1            460726  20.0  Adult 18+           Victim    Male   \n",
       "2            478855  25.0  Adult 18+  Subject-Suspect    Male   \n",
       "3            478925  29.0  Adult 18+           Victim  Female   \n",
       "4            478959  18.0  Adult 18+           Victim  Female   \n",
       "...             ...   ...        ...              ...     ...   \n",
       "385471       575663   NaN  Adult 18+  Subject-Suspect    Male   \n",
       "385472       577157  19.0  Adult 18+           Victim    Male   \n",
       "385473       577157  19.0  Adult 18+           Victim    Male   \n",
       "385474       577157  30.0  Adult 18+           Victim    Male   \n",
       "385475       577157  29.0  Adult 18+           Victim  Female   \n",
       "\n",
       "                             status  \n",
       "0                          Arrested  \n",
       "1                            Killed  \n",
       "2       Injured, Unharmed, Arrested  \n",
       "3                            Killed  \n",
       "4                           Injured  \n",
       "...                             ...  \n",
       "385471           Unharmed, Arrested  \n",
       "385472                      Injured  \n",
       "385473                      Injured  \n",
       "385474                      Injured  \n",
       "385475                      Injured  \n",
       "\n",
       "[385476 rows x 6 columns]"
      ]
     },
     "execution_count": 8,
     "metadata": {},
     "output_type": "execute_result"
    }
   ],
   "source": [
    "df_victim=df_demo.copy()\n",
    "df_victim"
   ]
  },
  {
   "cell_type": "code",
   "execution_count": 9,
   "id": "947a2858",
   "metadata": {},
   "outputs": [
    {
     "data": {
      "text/html": [
       "<div>\n",
       "<style scoped>\n",
       "    .dataframe tbody tr th:only-of-type {\n",
       "        vertical-align: middle;\n",
       "    }\n",
       "\n",
       "    .dataframe tbody tr th {\n",
       "        vertical-align: top;\n",
       "    }\n",
       "\n",
       "    .dataframe thead th {\n",
       "        text-align: right;\n",
       "    }\n",
       "</style>\n",
       "<table border=\"1\" class=\"dataframe\">\n",
       "  <thead>\n",
       "    <tr style=\"text-align: right;\">\n",
       "      <th></th>\n",
       "      <th>incident_id</th>\n",
       "      <th>age</th>\n",
       "      <th>age_group</th>\n",
       "      <th>type</th>\n",
       "      <th>gender</th>\n",
       "      <th>status</th>\n",
       "    </tr>\n",
       "  </thead>\n",
       "  <tbody>\n",
       "    <tr>\n",
       "      <th>0</th>\n",
       "      <td>461105</td>\n",
       "      <td>20.0</td>\n",
       "      <td>Adult 18+</td>\n",
       "      <td>Victim</td>\n",
       "      <td>Male</td>\n",
       "      <td>Arrested</td>\n",
       "    </tr>\n",
       "    <tr>\n",
       "      <th>1</th>\n",
       "      <td>460726</td>\n",
       "      <td>20.0</td>\n",
       "      <td>Adult 18+</td>\n",
       "      <td>Victim</td>\n",
       "      <td>Male</td>\n",
       "      <td>Killed</td>\n",
       "    </tr>\n",
       "    <tr>\n",
       "      <th>3</th>\n",
       "      <td>478925</td>\n",
       "      <td>29.0</td>\n",
       "      <td>Adult 18+</td>\n",
       "      <td>Victim</td>\n",
       "      <td>Female</td>\n",
       "      <td>Killed</td>\n",
       "    </tr>\n",
       "    <tr>\n",
       "      <th>4</th>\n",
       "      <td>478959</td>\n",
       "      <td>18.0</td>\n",
       "      <td>Adult 18+</td>\n",
       "      <td>Victim</td>\n",
       "      <td>Female</td>\n",
       "      <td>Injured</td>\n",
       "    </tr>\n",
       "    <tr>\n",
       "      <th>5</th>\n",
       "      <td>478948</td>\n",
       "      <td>23.0</td>\n",
       "      <td>Adult 18+</td>\n",
       "      <td>Victim</td>\n",
       "      <td>Female</td>\n",
       "      <td>Killed</td>\n",
       "    </tr>\n",
       "    <tr>\n",
       "      <th>...</th>\n",
       "      <td>...</td>\n",
       "      <td>...</td>\n",
       "      <td>...</td>\n",
       "      <td>...</td>\n",
       "      <td>...</td>\n",
       "      <td>...</td>\n",
       "    </tr>\n",
       "    <tr>\n",
       "      <th>385470</th>\n",
       "      <td>577157</td>\n",
       "      <td>37.0</td>\n",
       "      <td>Adult 18+</td>\n",
       "      <td>Victim</td>\n",
       "      <td>Male</td>\n",
       "      <td>Injured</td>\n",
       "    </tr>\n",
       "    <tr>\n",
       "      <th>385472</th>\n",
       "      <td>577157</td>\n",
       "      <td>19.0</td>\n",
       "      <td>Adult 18+</td>\n",
       "      <td>Victim</td>\n",
       "      <td>Male</td>\n",
       "      <td>Injured</td>\n",
       "    </tr>\n",
       "    <tr>\n",
       "      <th>385473</th>\n",
       "      <td>577157</td>\n",
       "      <td>19.0</td>\n",
       "      <td>Adult 18+</td>\n",
       "      <td>Victim</td>\n",
       "      <td>Male</td>\n",
       "      <td>Injured</td>\n",
       "    </tr>\n",
       "    <tr>\n",
       "      <th>385474</th>\n",
       "      <td>577157</td>\n",
       "      <td>30.0</td>\n",
       "      <td>Adult 18+</td>\n",
       "      <td>Victim</td>\n",
       "      <td>Male</td>\n",
       "      <td>Injured</td>\n",
       "    </tr>\n",
       "    <tr>\n",
       "      <th>385475</th>\n",
       "      <td>577157</td>\n",
       "      <td>29.0</td>\n",
       "      <td>Adult 18+</td>\n",
       "      <td>Victim</td>\n",
       "      <td>Female</td>\n",
       "      <td>Injured</td>\n",
       "    </tr>\n",
       "  </tbody>\n",
       "</table>\n",
       "<p>189564 rows × 6 columns</p>\n",
       "</div>"
      ],
      "text/plain": [
       "        incident_id   age  age_group    type  gender    status\n",
       "0            461105  20.0  Adult 18+  Victim    Male  Arrested\n",
       "1            460726  20.0  Adult 18+  Victim    Male    Killed\n",
       "3            478925  29.0  Adult 18+  Victim  Female    Killed\n",
       "4            478959  18.0  Adult 18+  Victim  Female   Injured\n",
       "5            478948  23.0  Adult 18+  Victim  Female    Killed\n",
       "...             ...   ...        ...     ...     ...       ...\n",
       "385470       577157  37.0  Adult 18+  Victim    Male   Injured\n",
       "385472       577157  19.0  Adult 18+  Victim    Male   Injured\n",
       "385473       577157  19.0  Adult 18+  Victim    Male   Injured\n",
       "385474       577157  30.0  Adult 18+  Victim    Male   Injured\n",
       "385475       577157  29.0  Adult 18+  Victim  Female   Injured\n",
       "\n",
       "[189564 rows x 6 columns]"
      ]
     },
     "execution_count": 9,
     "metadata": {},
     "output_type": "execute_result"
    }
   ],
   "source": [
    "df_victim = df_victim[df_victim.type != \"Subject-Suspect\"]\n",
    "df_victim"
   ]
  },
  {
   "cell_type": "code",
   "execution_count": 10,
   "id": "18f5e636",
   "metadata": {
    "scrolled": true
   },
   "outputs": [
    {
     "data": {
      "text/plain": [
       "array(['Victim'], dtype=object)"
      ]
     },
     "execution_count": 10,
     "metadata": {},
     "output_type": "execute_result"
    }
   ],
   "source": [
    "df_victim[\"type\"].unique()"
   ]
  },
  {
   "cell_type": "code",
   "execution_count": 11,
   "id": "d0c17d2b",
   "metadata": {},
   "outputs": [
    {
     "data": {
      "text/plain": [
       "array([ 20.,  29.,  18.,  23.,  51.,  nan,  15.,  19.,  28.,  78.,  34.,\n",
       "        24.,  22.,  39.,  35.,  50.,  33.,  16.,  68.,  21.,  62.,   2.,\n",
       "        64.,  17.,  36.,  31.,  10.,  41.,  47.,  60.,  14.,  72.,  55.,\n",
       "        13.,  12.,  43.,  40.,  70.,  25.,  27.,  42.,   8.,  45.,  79.,\n",
       "        30.,  26.,  53.,  11.,  32.,  59.,   3.,  67.,  66.,  61.,  85.,\n",
       "         6.,  52.,  46.,  88.,  49.,  73.,  48.,  37.,   9.,  71.,  38.,\n",
       "        58.,   5.,  44.,  90.,  57.,  69.,  56.,  63.,   7.,   4.,  54.,\n",
       "        65.,  74.,  77.,  86.,  80.,  84.,  76.,  96.,  81.,   1.,  75.,\n",
       "        83.,  82.,  92.,  87.,   0., 101.,  89.,  97.,  91.,  94.,  95.,\n",
       "        93.,  99., 100., 209.])"
      ]
     },
     "execution_count": 11,
     "metadata": {},
     "output_type": "execute_result"
    }
   ],
   "source": [
    "df_victim[\"age\"].unique()"
   ]
  },
  {
   "cell_type": "code",
   "execution_count": 12,
   "id": "db9ff3f9",
   "metadata": {
    "scrolled": false
   },
   "outputs": [
    {
     "data": {
      "text/plain": [
       "count    123519.000000\n",
       "mean         29.779783\n",
       "std          13.727560\n",
       "min           0.000000\n",
       "25%          20.000000\n",
       "50%          26.000000\n",
       "75%          36.000000\n",
       "max         209.000000\n",
       "Name: age, dtype: float64"
      ]
     },
     "execution_count": 12,
     "metadata": {},
     "output_type": "execute_result"
    }
   ],
   "source": [
    "df_victim[\"age\"].describe()"
   ]
  },
  {
   "cell_type": "code",
   "execution_count": 13,
   "id": "404f8cb1",
   "metadata": {
    "scrolled": false
   },
   "outputs": [
    {
     "data": {
      "text/html": [
       "<div>\n",
       "<style scoped>\n",
       "    .dataframe tbody tr th:only-of-type {\n",
       "        vertical-align: middle;\n",
       "    }\n",
       "\n",
       "    .dataframe tbody tr th {\n",
       "        vertical-align: top;\n",
       "    }\n",
       "\n",
       "    .dataframe thead th {\n",
       "        text-align: right;\n",
       "    }\n",
       "</style>\n",
       "<table border=\"1\" class=\"dataframe\">\n",
       "  <thead>\n",
       "    <tr style=\"text-align: right;\">\n",
       "      <th></th>\n",
       "      <th>incident_id</th>\n",
       "      <th>age</th>\n",
       "      <th>age_group</th>\n",
       "      <th>type</th>\n",
       "      <th>status</th>\n",
       "    </tr>\n",
       "    <tr>\n",
       "      <th>gender</th>\n",
       "      <th></th>\n",
       "      <th></th>\n",
       "      <th></th>\n",
       "      <th></th>\n",
       "      <th></th>\n",
       "    </tr>\n",
       "  </thead>\n",
       "  <tbody>\n",
       "    <tr>\n",
       "      <th>Female</th>\n",
       "      <td>30886</td>\n",
       "      <td>22139</td>\n",
       "      <td>29611</td>\n",
       "      <td>30886</td>\n",
       "      <td>30744</td>\n",
       "    </tr>\n",
       "    <tr>\n",
       "      <th>Male</th>\n",
       "      <td>144545</td>\n",
       "      <td>100127</td>\n",
       "      <td>137014</td>\n",
       "      <td>144545</td>\n",
       "      <td>143661</td>\n",
       "    </tr>\n",
       "    <tr>\n",
       "      <th>Male, female</th>\n",
       "      <td>1</td>\n",
       "      <td>1</td>\n",
       "      <td>1</td>\n",
       "      <td>1</td>\n",
       "      <td>1</td>\n",
       "    </tr>\n",
       "  </tbody>\n",
       "</table>\n",
       "</div>"
      ],
      "text/plain": [
       "              incident_id     age  age_group    type  status\n",
       "gender                                                      \n",
       "Female              30886   22139      29611   30886   30744\n",
       "Male               144545  100127     137014  144545  143661\n",
       "Male, female            1       1          1       1       1"
      ]
     },
     "execution_count": 13,
     "metadata": {},
     "output_type": "execute_result"
    }
   ],
   "source": [
    "df_victim.groupby(\"gender\").count()"
   ]
  },
  {
   "cell_type": "code",
   "execution_count": 14,
   "id": "756c8782",
   "metadata": {
    "scrolled": false
   },
   "outputs": [
    {
     "data": {
      "text/html": [
       "<div>\n",
       "<style scoped>\n",
       "    .dataframe tbody tr th:only-of-type {\n",
       "        vertical-align: middle;\n",
       "    }\n",
       "\n",
       "    .dataframe tbody tr th {\n",
       "        vertical-align: top;\n",
       "    }\n",
       "\n",
       "    .dataframe thead th {\n",
       "        text-align: right;\n",
       "    }\n",
       "</style>\n",
       "<table border=\"1\" class=\"dataframe\">\n",
       "  <thead>\n",
       "    <tr style=\"text-align: right;\">\n",
       "      <th></th>\n",
       "      <th>age</th>\n",
       "    </tr>\n",
       "    <tr>\n",
       "      <th>gender</th>\n",
       "      <th></th>\n",
       "    </tr>\n",
       "  </thead>\n",
       "  <tbody>\n",
       "    <tr>\n",
       "      <th>Female</th>\n",
       "      <td>31.867880</td>\n",
       "    </tr>\n",
       "    <tr>\n",
       "      <th>Male</th>\n",
       "      <td>29.410658</td>\n",
       "    </tr>\n",
       "    <tr>\n",
       "      <th>Male, female</th>\n",
       "      <td>32.000000</td>\n",
       "    </tr>\n",
       "  </tbody>\n",
       "</table>\n",
       "</div>"
      ],
      "text/plain": [
       "                    age\n",
       "gender                 \n",
       "Female        31.867880\n",
       "Male          29.410658\n",
       "Male, female  32.000000"
      ]
     },
     "execution_count": 14,
     "metadata": {},
     "output_type": "execute_result"
    }
   ],
   "source": [
    "df_victim[[\"gender\",\"age\"]].groupby(\"gender\").mean()"
   ]
  },
  {
   "cell_type": "code",
   "execution_count": 17,
   "id": "45ff965c",
   "metadata": {},
   "outputs": [
    {
     "data": {
      "text/html": [
       "<div>\n",
       "<style scoped>\n",
       "    .dataframe tbody tr th:only-of-type {\n",
       "        vertical-align: middle;\n",
       "    }\n",
       "\n",
       "    .dataframe tbody tr th {\n",
       "        vertical-align: top;\n",
       "    }\n",
       "\n",
       "    .dataframe thead th {\n",
       "        text-align: right;\n",
       "    }\n",
       "</style>\n",
       "<table border=\"1\" class=\"dataframe\">\n",
       "  <thead>\n",
       "    <tr style=\"text-align: right;\">\n",
       "      <th></th>\n",
       "      <th>incident_id</th>\n",
       "      <th>age</th>\n",
       "      <th>age_group</th>\n",
       "      <th>type</th>\n",
       "      <th>gender</th>\n",
       "      <th>status</th>\n",
       "    </tr>\n",
       "  </thead>\n",
       "  <tbody>\n",
       "    <tr>\n",
       "      <th>2</th>\n",
       "      <td>478855</td>\n",
       "      <td>25.0</td>\n",
       "      <td>Adult 18+</td>\n",
       "      <td>Subject-Suspect</td>\n",
       "      <td>Male</td>\n",
       "      <td>Injured, Unharmed, Arrested</td>\n",
       "    </tr>\n",
       "    <tr>\n",
       "      <th>24</th>\n",
       "      <td>480401</td>\n",
       "      <td>NaN</td>\n",
       "      <td>Adult 18+</td>\n",
       "      <td>Subject-Suspect</td>\n",
       "      <td>Male</td>\n",
       "      <td>Unharmed, Arrested</td>\n",
       "    </tr>\n",
       "    <tr>\n",
       "      <th>34</th>\n",
       "      <td>482771</td>\n",
       "      <td>19.0</td>\n",
       "      <td>Adult 18+</td>\n",
       "      <td>Subject-Suspect</td>\n",
       "      <td>Male</td>\n",
       "      <td>Unharmed, Arrested</td>\n",
       "    </tr>\n",
       "    <tr>\n",
       "      <th>116</th>\n",
       "      <td>490048</td>\n",
       "      <td>28.0</td>\n",
       "      <td>Adult 18+</td>\n",
       "      <td>Subject-Suspect</td>\n",
       "      <td>Male</td>\n",
       "      <td>Unharmed, Arrested</td>\n",
       "    </tr>\n",
       "    <tr>\n",
       "      <th>121</th>\n",
       "      <td>893251</td>\n",
       "      <td>22.0</td>\n",
       "      <td>Adult 18+</td>\n",
       "      <td>Subject-Suspect</td>\n",
       "      <td>Male</td>\n",
       "      <td>Injured</td>\n",
       "    </tr>\n",
       "    <tr>\n",
       "      <th>...</th>\n",
       "      <td>...</td>\n",
       "      <td>...</td>\n",
       "      <td>...</td>\n",
       "      <td>...</td>\n",
       "      <td>...</td>\n",
       "      <td>...</td>\n",
       "    </tr>\n",
       "    <tr>\n",
       "      <th>385463</th>\n",
       "      <td>575663</td>\n",
       "      <td>28.0</td>\n",
       "      <td>Adult 18+</td>\n",
       "      <td>Subject-Suspect</td>\n",
       "      <td>Male</td>\n",
       "      <td>Unharmed, Arrested</td>\n",
       "    </tr>\n",
       "    <tr>\n",
       "      <th>385465</th>\n",
       "      <td>575663</td>\n",
       "      <td>NaN</td>\n",
       "      <td>Adult 18+</td>\n",
       "      <td>Subject-Suspect</td>\n",
       "      <td>Male</td>\n",
       "      <td>Unharmed, Arrested</td>\n",
       "    </tr>\n",
       "    <tr>\n",
       "      <th>385467</th>\n",
       "      <td>575663</td>\n",
       "      <td>NaN</td>\n",
       "      <td>Adult 18+</td>\n",
       "      <td>Subject-Suspect</td>\n",
       "      <td>Female</td>\n",
       "      <td>Unharmed, Arrested</td>\n",
       "    </tr>\n",
       "    <tr>\n",
       "      <th>385469</th>\n",
       "      <td>575663</td>\n",
       "      <td>NaN</td>\n",
       "      <td>Adult 18+</td>\n",
       "      <td>Subject-Suspect</td>\n",
       "      <td>Male</td>\n",
       "      <td>Unharmed, Arrested</td>\n",
       "    </tr>\n",
       "    <tr>\n",
       "      <th>385471</th>\n",
       "      <td>575663</td>\n",
       "      <td>NaN</td>\n",
       "      <td>Adult 18+</td>\n",
       "      <td>Subject-Suspect</td>\n",
       "      <td>Male</td>\n",
       "      <td>Unharmed, Arrested</td>\n",
       "    </tr>\n",
       "  </tbody>\n",
       "</table>\n",
       "<p>195912 rows × 6 columns</p>\n",
       "</div>"
      ],
      "text/plain": [
       "        incident_id   age  age_group             type  gender  \\\n",
       "2            478855  25.0  Adult 18+  Subject-Suspect    Male   \n",
       "24           480401   NaN  Adult 18+  Subject-Suspect    Male   \n",
       "34           482771  19.0  Adult 18+  Subject-Suspect    Male   \n",
       "116          490048  28.0  Adult 18+  Subject-Suspect    Male   \n",
       "121          893251  22.0  Adult 18+  Subject-Suspect    Male   \n",
       "...             ...   ...        ...              ...     ...   \n",
       "385463       575663  28.0  Adult 18+  Subject-Suspect    Male   \n",
       "385465       575663   NaN  Adult 18+  Subject-Suspect    Male   \n",
       "385467       575663   NaN  Adult 18+  Subject-Suspect  Female   \n",
       "385469       575663   NaN  Adult 18+  Subject-Suspect    Male   \n",
       "385471       575663   NaN  Adult 18+  Subject-Suspect    Male   \n",
       "\n",
       "                             status  \n",
       "2       Injured, Unharmed, Arrested  \n",
       "24               Unharmed, Arrested  \n",
       "34               Unharmed, Arrested  \n",
       "116              Unharmed, Arrested  \n",
       "121                         Injured  \n",
       "...                             ...  \n",
       "385463           Unharmed, Arrested  \n",
       "385465           Unharmed, Arrested  \n",
       "385467           Unharmed, Arrested  \n",
       "385469           Unharmed, Arrested  \n",
       "385471           Unharmed, Arrested  \n",
       "\n",
       "[195912 rows x 6 columns]"
      ]
     },
     "execution_count": 17,
     "metadata": {},
     "output_type": "execute_result"
    }
   ],
   "source": [
    "df_sus=df_demo.copy()\n",
    "df_sus= df_sus[df_sus.type != \"Victim\"]\n",
    "df_sus"
   ]
  },
  {
   "cell_type": "code",
   "execution_count": 18,
   "id": "629f2bb0",
   "metadata": {
    "scrolled": true
   },
   "outputs": [
    {
     "data": {
      "text/html": [
       "<div>\n",
       "<style scoped>\n",
       "    .dataframe tbody tr th:only-of-type {\n",
       "        vertical-align: middle;\n",
       "    }\n",
       "\n",
       "    .dataframe tbody tr th {\n",
       "        vertical-align: top;\n",
       "    }\n",
       "\n",
       "    .dataframe thead th {\n",
       "        text-align: right;\n",
       "    }\n",
       "</style>\n",
       "<table border=\"1\" class=\"dataframe\">\n",
       "  <thead>\n",
       "    <tr style=\"text-align: right;\">\n",
       "      <th></th>\n",
       "      <th>age</th>\n",
       "    </tr>\n",
       "    <tr>\n",
       "      <th>gender</th>\n",
       "      <th></th>\n",
       "    </tr>\n",
       "  </thead>\n",
       "  <tbody>\n",
       "    <tr>\n",
       "      <th>Female</th>\n",
       "      <td>31.249595</td>\n",
       "    </tr>\n",
       "    <tr>\n",
       "      <th>Male</th>\n",
       "      <td>29.009994</td>\n",
       "    </tr>\n",
       "  </tbody>\n",
       "</table>\n",
       "</div>"
      ],
      "text/plain": [
       "              age\n",
       "gender           \n",
       "Female  31.249595\n",
       "Male    29.009994"
      ]
     },
     "execution_count": 18,
     "metadata": {},
     "output_type": "execute_result"
    }
   ],
   "source": [
    "df_sus[[\"gender\",\"age\"]].groupby(\"gender\").mean()"
   ]
  },
  {
   "cell_type": "code",
   "execution_count": 19,
   "id": "6b5729df",
   "metadata": {
    "scrolled": true
   },
   "outputs": [
    {
     "data": {
      "text/html": [
       "<div>\n",
       "<style scoped>\n",
       "    .dataframe tbody tr th:only-of-type {\n",
       "        vertical-align: middle;\n",
       "    }\n",
       "\n",
       "    .dataframe tbody tr th {\n",
       "        vertical-align: top;\n",
       "    }\n",
       "\n",
       "    .dataframe thead th {\n",
       "        text-align: right;\n",
       "    }\n",
       "</style>\n",
       "<table border=\"1\" class=\"dataframe\">\n",
       "  <thead>\n",
       "    <tr style=\"text-align: right;\">\n",
       "      <th></th>\n",
       "      <th>status</th>\n",
       "    </tr>\n",
       "    <tr>\n",
       "      <th>status</th>\n",
       "      <th></th>\n",
       "    </tr>\n",
       "  </thead>\n",
       "  <tbody>\n",
       "    <tr>\n",
       "      <th>Arrested</th>\n",
       "      <td>10169</td>\n",
       "    </tr>\n",
       "    <tr>\n",
       "      <th>Injured</th>\n",
       "      <td>113296</td>\n",
       "    </tr>\n",
       "    <tr>\n",
       "      <th>Injured, Arrested</th>\n",
       "      <td>3467</td>\n",
       "    </tr>\n",
       "    <tr>\n",
       "      <th>Injured, Unharmed</th>\n",
       "      <td>31</td>\n",
       "    </tr>\n",
       "    <tr>\n",
       "      <th>Injured, Unharmed, Arrested</th>\n",
       "      <td>22</td>\n",
       "    </tr>\n",
       "    <tr>\n",
       "      <th>Killed</th>\n",
       "      <td>59385</td>\n",
       "    </tr>\n",
       "    <tr>\n",
       "      <th>Killed, Arrested</th>\n",
       "      <td>51</td>\n",
       "    </tr>\n",
       "    <tr>\n",
       "      <th>Killed, Injured</th>\n",
       "      <td>10</td>\n",
       "    </tr>\n",
       "    <tr>\n",
       "      <th>Killed, Unharmed</th>\n",
       "      <td>21</td>\n",
       "    </tr>\n",
       "    <tr>\n",
       "      <th>Killed, Unharmed, Arrested</th>\n",
       "      <td>14</td>\n",
       "    </tr>\n",
       "    <tr>\n",
       "      <th>Unharmed</th>\n",
       "      <td>100822</td>\n",
       "    </tr>\n",
       "    <tr>\n",
       "      <th>Unharmed, Arrested</th>\n",
       "      <td>85388</td>\n",
       "    </tr>\n",
       "  </tbody>\n",
       "</table>\n",
       "</div>"
      ],
      "text/plain": [
       "                             status\n",
       "status                             \n",
       "Arrested                      10169\n",
       "Injured                      113296\n",
       "Injured, Arrested              3467\n",
       "Injured, Unharmed                31\n",
       "Injured, Unharmed, Arrested      22\n",
       "Killed                        59385\n",
       "Killed, Arrested                 51\n",
       "Killed, Injured                  10\n",
       "Killed, Unharmed                 21\n",
       "Killed, Unharmed, Arrested       14\n",
       "Unharmed                     100822\n",
       "Unharmed, Arrested            85388"
      ]
     },
     "execution_count": 19,
     "metadata": {},
     "output_type": "execute_result"
    }
   ],
   "source": [
    "df_demo.groupby([\"status\"])[[\"status\"]].count()"
   ]
  },
  {
   "cell_type": "code",
   "execution_count": 20,
   "id": "43f3d9dc",
   "metadata": {
    "scrolled": true
   },
   "outputs": [
    {
     "data": {
      "text/plain": [
       "0                            Arrested\n",
       "1                              Killed\n",
       "2         Injured, Unharmed, Arrested\n",
       "3                              Killed\n",
       "4                             Injured\n",
       "                     ...             \n",
       "385471             Unharmed, Arrested\n",
       "385472                        Injured\n",
       "385473                        Injured\n",
       "385474                        Injured\n",
       "385475                        Injured\n",
       "Name: status, Length: 385476, dtype: object"
      ]
     },
     "execution_count": 20,
     "metadata": {},
     "output_type": "execute_result"
    }
   ],
   "source": [
    "df_demo[\"status\"]"
   ]
  },
  {
   "cell_type": "code",
   "execution_count": 21,
   "id": "e1a95e54",
   "metadata": {},
   "outputs": [
    {
     "data": {
      "text/html": [
       "<div>\n",
       "<style scoped>\n",
       "    .dataframe tbody tr th:only-of-type {\n",
       "        vertical-align: middle;\n",
       "    }\n",
       "\n",
       "    .dataframe tbody tr th {\n",
       "        vertical-align: top;\n",
       "    }\n",
       "\n",
       "    .dataframe thead th {\n",
       "        text-align: right;\n",
       "    }\n",
       "</style>\n",
       "<table border=\"1\" class=\"dataframe\">\n",
       "  <thead>\n",
       "    <tr style=\"text-align: right;\">\n",
       "      <th></th>\n",
       "      <th>0</th>\n",
       "      <th>1</th>\n",
       "      <th>2</th>\n",
       "    </tr>\n",
       "  </thead>\n",
       "  <tbody>\n",
       "    <tr>\n",
       "      <th>0</th>\n",
       "      <td>Arrested</td>\n",
       "      <td>None</td>\n",
       "      <td>None</td>\n",
       "    </tr>\n",
       "    <tr>\n",
       "      <th>1</th>\n",
       "      <td>Killed</td>\n",
       "      <td>None</td>\n",
       "      <td>None</td>\n",
       "    </tr>\n",
       "    <tr>\n",
       "      <th>2</th>\n",
       "      <td>Injured</td>\n",
       "      <td>Unharmed</td>\n",
       "      <td>Arrested</td>\n",
       "    </tr>\n",
       "    <tr>\n",
       "      <th>3</th>\n",
       "      <td>Killed</td>\n",
       "      <td>None</td>\n",
       "      <td>None</td>\n",
       "    </tr>\n",
       "    <tr>\n",
       "      <th>4</th>\n",
       "      <td>Injured</td>\n",
       "      <td>None</td>\n",
       "      <td>None</td>\n",
       "    </tr>\n",
       "    <tr>\n",
       "      <th>...</th>\n",
       "      <td>...</td>\n",
       "      <td>...</td>\n",
       "      <td>...</td>\n",
       "    </tr>\n",
       "    <tr>\n",
       "      <th>385471</th>\n",
       "      <td>Unharmed</td>\n",
       "      <td>Arrested</td>\n",
       "      <td>None</td>\n",
       "    </tr>\n",
       "    <tr>\n",
       "      <th>385472</th>\n",
       "      <td>Injured</td>\n",
       "      <td>None</td>\n",
       "      <td>None</td>\n",
       "    </tr>\n",
       "    <tr>\n",
       "      <th>385473</th>\n",
       "      <td>Injured</td>\n",
       "      <td>None</td>\n",
       "      <td>None</td>\n",
       "    </tr>\n",
       "    <tr>\n",
       "      <th>385474</th>\n",
       "      <td>Injured</td>\n",
       "      <td>None</td>\n",
       "      <td>None</td>\n",
       "    </tr>\n",
       "    <tr>\n",
       "      <th>385475</th>\n",
       "      <td>Injured</td>\n",
       "      <td>None</td>\n",
       "      <td>None</td>\n",
       "    </tr>\n",
       "  </tbody>\n",
       "</table>\n",
       "<p>385476 rows × 3 columns</p>\n",
       "</div>"
      ],
      "text/plain": [
       "               0          1          2\n",
       "0       Arrested       None       None\n",
       "1         Killed       None       None\n",
       "2        Injured   Unharmed   Arrested\n",
       "3         Killed       None       None\n",
       "4        Injured       None       None\n",
       "...          ...        ...        ...\n",
       "385471  Unharmed   Arrested       None\n",
       "385472   Injured       None       None\n",
       "385473   Injured       None       None\n",
       "385474   Injured       None       None\n",
       "385475   Injured       None       None\n",
       "\n",
       "[385476 rows x 3 columns]"
      ]
     },
     "execution_count": 21,
     "metadata": {},
     "output_type": "execute_result"
    }
   ],
   "source": [
    "split_status_more=df_demo[\"status\"].str.split(pat= \",\", expand=True) \n",
    "split_status_more"
   ]
  },
  {
   "cell_type": "code",
   "execution_count": 22,
   "id": "43dd9e46",
   "metadata": {},
   "outputs": [],
   "source": [
    "di = {\"Unharmed, Arrested\": \"Unharmed\",\n",
    "      \"Injured, Arrested\": \"Injured\",\n",
    "      \"Injured, Unharmed\": \"Injured\",\n",
    "      \"Injured, Unharmed, Arrested\":\"Injured\",\n",
    "      \"Killed, Arrested\": \"Killed\",\n",
    "      \"Killed, Unharmed\": \"Killed\",\n",
    "      \"Killed, Injured\":\"Killed\",\n",
    "      \"Killed, Unharmed, Arrested\":\"Killed\"}"
   ]
  },
  {
   "cell_type": "code",
   "execution_count": 23,
   "id": "38ae9e86",
   "metadata": {
    "scrolled": true
   },
   "outputs": [
    {
     "data": {
      "text/html": [
       "<div>\n",
       "<style scoped>\n",
       "    .dataframe tbody tr th:only-of-type {\n",
       "        vertical-align: middle;\n",
       "    }\n",
       "\n",
       "    .dataframe tbody tr th {\n",
       "        vertical-align: top;\n",
       "    }\n",
       "\n",
       "    .dataframe thead th {\n",
       "        text-align: right;\n",
       "    }\n",
       "</style>\n",
       "<table border=\"1\" class=\"dataframe\">\n",
       "  <thead>\n",
       "    <tr style=\"text-align: right;\">\n",
       "      <th></th>\n",
       "      <th>incident_id</th>\n",
       "      <th>age</th>\n",
       "      <th>age_group</th>\n",
       "      <th>type</th>\n",
       "      <th>gender</th>\n",
       "      <th>status</th>\n",
       "    </tr>\n",
       "  </thead>\n",
       "  <tbody>\n",
       "    <tr>\n",
       "      <th>0</th>\n",
       "      <td>461105</td>\n",
       "      <td>20.0</td>\n",
       "      <td>Adult 18+</td>\n",
       "      <td>Victim</td>\n",
       "      <td>Male</td>\n",
       "      <td>Arrested</td>\n",
       "    </tr>\n",
       "    <tr>\n",
       "      <th>1</th>\n",
       "      <td>460726</td>\n",
       "      <td>20.0</td>\n",
       "      <td>Adult 18+</td>\n",
       "      <td>Victim</td>\n",
       "      <td>Male</td>\n",
       "      <td>Killed</td>\n",
       "    </tr>\n",
       "    <tr>\n",
       "      <th>2</th>\n",
       "      <td>478855</td>\n",
       "      <td>25.0</td>\n",
       "      <td>Adult 18+</td>\n",
       "      <td>Subject-Suspect</td>\n",
       "      <td>Male</td>\n",
       "      <td>Injured</td>\n",
       "    </tr>\n",
       "    <tr>\n",
       "      <th>3</th>\n",
       "      <td>478925</td>\n",
       "      <td>29.0</td>\n",
       "      <td>Adult 18+</td>\n",
       "      <td>Victim</td>\n",
       "      <td>Female</td>\n",
       "      <td>Killed</td>\n",
       "    </tr>\n",
       "    <tr>\n",
       "      <th>4</th>\n",
       "      <td>478959</td>\n",
       "      <td>18.0</td>\n",
       "      <td>Adult 18+</td>\n",
       "      <td>Victim</td>\n",
       "      <td>Female</td>\n",
       "      <td>Injured</td>\n",
       "    </tr>\n",
       "    <tr>\n",
       "      <th>...</th>\n",
       "      <td>...</td>\n",
       "      <td>...</td>\n",
       "      <td>...</td>\n",
       "      <td>...</td>\n",
       "      <td>...</td>\n",
       "      <td>...</td>\n",
       "    </tr>\n",
       "    <tr>\n",
       "      <th>385471</th>\n",
       "      <td>575663</td>\n",
       "      <td>NaN</td>\n",
       "      <td>Adult 18+</td>\n",
       "      <td>Subject-Suspect</td>\n",
       "      <td>Male</td>\n",
       "      <td>Unharmed</td>\n",
       "    </tr>\n",
       "    <tr>\n",
       "      <th>385472</th>\n",
       "      <td>577157</td>\n",
       "      <td>19.0</td>\n",
       "      <td>Adult 18+</td>\n",
       "      <td>Victim</td>\n",
       "      <td>Male</td>\n",
       "      <td>Injured</td>\n",
       "    </tr>\n",
       "    <tr>\n",
       "      <th>385473</th>\n",
       "      <td>577157</td>\n",
       "      <td>19.0</td>\n",
       "      <td>Adult 18+</td>\n",
       "      <td>Victim</td>\n",
       "      <td>Male</td>\n",
       "      <td>Injured</td>\n",
       "    </tr>\n",
       "    <tr>\n",
       "      <th>385474</th>\n",
       "      <td>577157</td>\n",
       "      <td>30.0</td>\n",
       "      <td>Adult 18+</td>\n",
       "      <td>Victim</td>\n",
       "      <td>Male</td>\n",
       "      <td>Injured</td>\n",
       "    </tr>\n",
       "    <tr>\n",
       "      <th>385475</th>\n",
       "      <td>577157</td>\n",
       "      <td>29.0</td>\n",
       "      <td>Adult 18+</td>\n",
       "      <td>Victim</td>\n",
       "      <td>Female</td>\n",
       "      <td>Injured</td>\n",
       "    </tr>\n",
       "  </tbody>\n",
       "</table>\n",
       "<p>385476 rows × 6 columns</p>\n",
       "</div>"
      ],
      "text/plain": [
       "        incident_id   age  age_group             type  gender    status\n",
       "0            461105  20.0  Adult 18+           Victim    Male  Arrested\n",
       "1            460726  20.0  Adult 18+           Victim    Male    Killed\n",
       "2            478855  25.0  Adult 18+  Subject-Suspect    Male   Injured\n",
       "3            478925  29.0  Adult 18+           Victim  Female    Killed\n",
       "4            478959  18.0  Adult 18+           Victim  Female   Injured\n",
       "...             ...   ...        ...              ...     ...       ...\n",
       "385471       575663   NaN  Adult 18+  Subject-Suspect    Male  Unharmed\n",
       "385472       577157  19.0  Adult 18+           Victim    Male   Injured\n",
       "385473       577157  19.0  Adult 18+           Victim    Male   Injured\n",
       "385474       577157  30.0  Adult 18+           Victim    Male   Injured\n",
       "385475       577157  29.0  Adult 18+           Victim  Female   Injured\n",
       "\n",
       "[385476 rows x 6 columns]"
      ]
     },
     "execution_count": 23,
     "metadata": {},
     "output_type": "execute_result"
    }
   ],
   "source": [
    "df_demo=df_demo.replace({\"status\": di})\n",
    "df_demo\n"
   ]
  },
  {
   "cell_type": "code",
   "execution_count": 29,
   "id": "bc6efacb",
   "metadata": {
    "scrolled": true
   },
   "outputs": [
    {
     "data": {
      "text/html": [
       "<div>\n",
       "<style scoped>\n",
       "    .dataframe tbody tr th:only-of-type {\n",
       "        vertical-align: middle;\n",
       "    }\n",
       "\n",
       "    .dataframe tbody tr th {\n",
       "        vertical-align: top;\n",
       "    }\n",
       "\n",
       "    .dataframe thead th {\n",
       "        text-align: right;\n",
       "    }\n",
       "</style>\n",
       "<table border=\"1\" class=\"dataframe\">\n",
       "  <thead>\n",
       "    <tr style=\"text-align: right;\">\n",
       "      <th></th>\n",
       "      <th>incident_id</th>\n",
       "      <th>date</th>\n",
       "      <th>state</th>\n",
       "      <th>city</th>\n",
       "      <th>number_guns</th>\n",
       "      <th>total_killed</th>\n",
       "      <th>total_injured</th>\n",
       "      <th>gun_stolen</th>\n",
       "      <th>gun_type</th>\n",
       "    </tr>\n",
       "  </thead>\n",
       "  <tbody>\n",
       "    <tr>\n",
       "      <th>0</th>\n",
       "      <td>461105</td>\n",
       "      <td>2013-01-01</td>\n",
       "      <td>Pennsylvania</td>\n",
       "      <td>Mckeesport</td>\n",
       "      <td>NaN</td>\n",
       "      <td>0</td>\n",
       "      <td>4</td>\n",
       "      <td>NaN</td>\n",
       "      <td>NaN</td>\n",
       "    </tr>\n",
       "    <tr>\n",
       "      <th>1</th>\n",
       "      <td>460726</td>\n",
       "      <td>2013-01-01</td>\n",
       "      <td>California</td>\n",
       "      <td>Hawthorne</td>\n",
       "      <td>NaN</td>\n",
       "      <td>1</td>\n",
       "      <td>3</td>\n",
       "      <td>NaN</td>\n",
       "      <td>NaN</td>\n",
       "    </tr>\n",
       "    <tr>\n",
       "      <th>2</th>\n",
       "      <td>478855</td>\n",
       "      <td>2013-01-01</td>\n",
       "      <td>Ohio</td>\n",
       "      <td>Lorain</td>\n",
       "      <td>2.0</td>\n",
       "      <td>1</td>\n",
       "      <td>3</td>\n",
       "      <td>Unknown</td>\n",
       "      <td>Unknown</td>\n",
       "    </tr>\n",
       "    <tr>\n",
       "      <th>3</th>\n",
       "      <td>478925</td>\n",
       "      <td>2013-01-05</td>\n",
       "      <td>Colorado</td>\n",
       "      <td>Aurora</td>\n",
       "      <td>NaN</td>\n",
       "      <td>4</td>\n",
       "      <td>0</td>\n",
       "      <td>NaN</td>\n",
       "      <td>NaN</td>\n",
       "    </tr>\n",
       "    <tr>\n",
       "      <th>4</th>\n",
       "      <td>478959</td>\n",
       "      <td>2013-01-07</td>\n",
       "      <td>North Carolina</td>\n",
       "      <td>Greensboro</td>\n",
       "      <td>2.0</td>\n",
       "      <td>2</td>\n",
       "      <td>2</td>\n",
       "      <td>Unknown</td>\n",
       "      <td>Handgun</td>\n",
       "    </tr>\n",
       "    <tr>\n",
       "      <th>...</th>\n",
       "      <td>...</td>\n",
       "      <td>...</td>\n",
       "      <td>...</td>\n",
       "      <td>...</td>\n",
       "      <td>...</td>\n",
       "      <td>...</td>\n",
       "      <td>...</td>\n",
       "      <td>...</td>\n",
       "      <td>...</td>\n",
       "    </tr>\n",
       "    <tr>\n",
       "      <th>239672</th>\n",
       "      <td>1083142</td>\n",
       "      <td>2018-03-31</td>\n",
       "      <td>Louisiana</td>\n",
       "      <td>Rayne</td>\n",
       "      <td>1.0</td>\n",
       "      <td>0</td>\n",
       "      <td>0</td>\n",
       "      <td>Unknown</td>\n",
       "      <td>Unknown</td>\n",
       "    </tr>\n",
       "    <tr>\n",
       "      <th>239673</th>\n",
       "      <td>1083139</td>\n",
       "      <td>2018-03-31</td>\n",
       "      <td>Louisiana</td>\n",
       "      <td>Natchitoches</td>\n",
       "      <td>1.0</td>\n",
       "      <td>1</td>\n",
       "      <td>0</td>\n",
       "      <td>Unknown</td>\n",
       "      <td>Unknown</td>\n",
       "    </tr>\n",
       "    <tr>\n",
       "      <th>239674</th>\n",
       "      <td>1083151</td>\n",
       "      <td>2018-03-31</td>\n",
       "      <td>Louisiana</td>\n",
       "      <td>Gretna</td>\n",
       "      <td>1.0</td>\n",
       "      <td>0</td>\n",
       "      <td>1</td>\n",
       "      <td>Unknown</td>\n",
       "      <td>Unknown</td>\n",
       "    </tr>\n",
       "    <tr>\n",
       "      <th>239675</th>\n",
       "      <td>1082514</td>\n",
       "      <td>2018-03-31</td>\n",
       "      <td>Texas</td>\n",
       "      <td>Houston</td>\n",
       "      <td>1.0</td>\n",
       "      <td>1</td>\n",
       "      <td>0</td>\n",
       "      <td>Unknown</td>\n",
       "      <td>Unknown</td>\n",
       "    </tr>\n",
       "    <tr>\n",
       "      <th>239676</th>\n",
       "      <td>1081940</td>\n",
       "      <td>2018-03-31</td>\n",
       "      <td>Maine</td>\n",
       "      <td>Norridgewock</td>\n",
       "      <td>2.0</td>\n",
       "      <td>2</td>\n",
       "      <td>0</td>\n",
       "      <td>Unknown</td>\n",
       "      <td>Handgun</td>\n",
       "    </tr>\n",
       "  </tbody>\n",
       "</table>\n",
       "<p>239677 rows × 9 columns</p>\n",
       "</div>"
      ],
      "text/plain": [
       "        incident_id        date           state          city  number_guns  \\\n",
       "0            461105  2013-01-01    Pennsylvania    Mckeesport          NaN   \n",
       "1            460726  2013-01-01      California     Hawthorne          NaN   \n",
       "2            478855  2013-01-01            Ohio        Lorain          2.0   \n",
       "3            478925  2013-01-05        Colorado        Aurora          NaN   \n",
       "4            478959  2013-01-07  North Carolina    Greensboro          2.0   \n",
       "...             ...         ...             ...           ...          ...   \n",
       "239672      1083142  2018-03-31       Louisiana         Rayne          1.0   \n",
       "239673      1083139  2018-03-31       Louisiana  Natchitoches          1.0   \n",
       "239674      1083151  2018-03-31       Louisiana        Gretna          1.0   \n",
       "239675      1082514  2018-03-31           Texas       Houston          1.0   \n",
       "239676      1081940  2018-03-31           Maine  Norridgewock          2.0   \n",
       "\n",
       "        total_killed  total_injured gun_stolen gun_type  \n",
       "0                  0              4        NaN      NaN  \n",
       "1                  1              3        NaN      NaN  \n",
       "2                  1              3    Unknown  Unknown  \n",
       "3                  4              0        NaN      NaN  \n",
       "4                  2              2    Unknown  Handgun  \n",
       "...              ...            ...        ...      ...  \n",
       "239672             0              0    Unknown  Unknown  \n",
       "239673             1              0    Unknown  Unknown  \n",
       "239674             0              1    Unknown  Unknown  \n",
       "239675             1              0    Unknown  Unknown  \n",
       "239676             2              0    Unknown  Handgun  \n",
       "\n",
       "[239677 rows x 9 columns]"
      ]
     },
     "execution_count": 29,
     "metadata": {},
     "output_type": "execute_result"
    }
   ],
   "source": [
    "df_static"
   ]
  },
  {
   "cell_type": "code",
   "execution_count": 48,
   "id": "49604291",
   "metadata": {},
   "outputs": [],
   "source": [
    "df_static['date']=pd.to_datetime(df_static['date'])\n",
    "year_col=df_static[\"date\"].dt.to_period(freq =\"Y\")\n",
    "df_static['month'] = pd.DatetimeIndex(df_static['date']).month"
   ]
  },
  {
   "cell_type": "code",
   "execution_count": 36,
   "id": "04b0925d",
   "metadata": {},
   "outputs": [],
   "source": [
    "df_static[\"year\"]=year_col"
   ]
  },
  {
   "cell_type": "code",
   "execution_count": 37,
   "id": "e900550e",
   "metadata": {},
   "outputs": [],
   "source": [
    "new_demo=df_demo.set_index(\"incident_id\")\n",
    "new_static=df_static.set_index(\"incident_id\")"
   ]
  },
  {
   "cell_type": "code",
   "execution_count": null,
   "id": "c4a8e9ef",
   "metadata": {},
   "outputs": [],
   "source": []
  },
  {
   "cell_type": "code",
   "execution_count": 38,
   "id": "1aaca869",
   "metadata": {
    "scrolled": true
   },
   "outputs": [
    {
     "data": {
      "text/html": [
       "<div>\n",
       "<style scoped>\n",
       "    .dataframe tbody tr th:only-of-type {\n",
       "        vertical-align: middle;\n",
       "    }\n",
       "\n",
       "    .dataframe tbody tr th {\n",
       "        vertical-align: top;\n",
       "    }\n",
       "\n",
       "    .dataframe thead th {\n",
       "        text-align: right;\n",
       "    }\n",
       "</style>\n",
       "<table border=\"1\" class=\"dataframe\">\n",
       "  <thead>\n",
       "    <tr style=\"text-align: right;\">\n",
       "      <th></th>\n",
       "      <th>incident_id</th>\n",
       "      <th>age</th>\n",
       "      <th>age_group</th>\n",
       "      <th>type</th>\n",
       "      <th>gender</th>\n",
       "      <th>status</th>\n",
       "      <th>date</th>\n",
       "      <th>state</th>\n",
       "      <th>city</th>\n",
       "      <th>number_guns</th>\n",
       "      <th>total_killed</th>\n",
       "      <th>total_injured</th>\n",
       "      <th>gun_stolen</th>\n",
       "      <th>gun_type</th>\n",
       "      <th>year</th>\n",
       "    </tr>\n",
       "  </thead>\n",
       "  <tbody>\n",
       "    <tr>\n",
       "      <th>0</th>\n",
       "      <td>92114</td>\n",
       "      <td>NaN</td>\n",
       "      <td>Adult 18+</td>\n",
       "      <td>Victim</td>\n",
       "      <td>Male</td>\n",
       "      <td>Injured</td>\n",
       "      <td>2014-01-01</td>\n",
       "      <td>Kentucky</td>\n",
       "      <td>Lexington</td>\n",
       "      <td>NaN</td>\n",
       "      <td>0</td>\n",
       "      <td>1</td>\n",
       "      <td>NaN</td>\n",
       "      <td>NaN</td>\n",
       "      <td>2014</td>\n",
       "    </tr>\n",
       "    <tr>\n",
       "      <th>1</th>\n",
       "      <td>92117</td>\n",
       "      <td>22.0</td>\n",
       "      <td>Adult 18+</td>\n",
       "      <td>Victim</td>\n",
       "      <td>Male</td>\n",
       "      <td>Injured</td>\n",
       "      <td>2014-01-01</td>\n",
       "      <td>Kentucky</td>\n",
       "      <td>Cynthiana</td>\n",
       "      <td>1.0</td>\n",
       "      <td>0</td>\n",
       "      <td>1</td>\n",
       "      <td>Unknown</td>\n",
       "      <td>Unknown</td>\n",
       "      <td>2014</td>\n",
       "    </tr>\n",
       "    <tr>\n",
       "      <th>2</th>\n",
       "      <td>92117</td>\n",
       "      <td>NaN</td>\n",
       "      <td>Adult 18+</td>\n",
       "      <td>Subject-Suspect</td>\n",
       "      <td>Male</td>\n",
       "      <td>Unharmed</td>\n",
       "      <td>2014-01-01</td>\n",
       "      <td>Kentucky</td>\n",
       "      <td>Cynthiana</td>\n",
       "      <td>1.0</td>\n",
       "      <td>0</td>\n",
       "      <td>1</td>\n",
       "      <td>Unknown</td>\n",
       "      <td>Unknown</td>\n",
       "      <td>2014</td>\n",
       "    </tr>\n",
       "    <tr>\n",
       "      <th>3</th>\n",
       "      <td>92119</td>\n",
       "      <td>NaN</td>\n",
       "      <td>Adult 18+</td>\n",
       "      <td>Victim</td>\n",
       "      <td>Male</td>\n",
       "      <td>Injured</td>\n",
       "      <td>2014-01-01</td>\n",
       "      <td>Kentucky</td>\n",
       "      <td>Louisville</td>\n",
       "      <td>NaN</td>\n",
       "      <td>0</td>\n",
       "      <td>1</td>\n",
       "      <td>NaN</td>\n",
       "      <td>NaN</td>\n",
       "      <td>2014</td>\n",
       "    </tr>\n",
       "    <tr>\n",
       "      <th>4</th>\n",
       "      <td>92122</td>\n",
       "      <td>NaN</td>\n",
       "      <td>NaN</td>\n",
       "      <td>Victim</td>\n",
       "      <td>NaN</td>\n",
       "      <td>Unharmed</td>\n",
       "      <td>2014-01-01</td>\n",
       "      <td>Virginia</td>\n",
       "      <td>Falls Church</td>\n",
       "      <td>NaN</td>\n",
       "      <td>0</td>\n",
       "      <td>0</td>\n",
       "      <td>NaN</td>\n",
       "      <td>NaN</td>\n",
       "      <td>2014</td>\n",
       "    </tr>\n",
       "    <tr>\n",
       "      <th>...</th>\n",
       "      <td>...</td>\n",
       "      <td>...</td>\n",
       "      <td>...</td>\n",
       "      <td>...</td>\n",
       "      <td>...</td>\n",
       "      <td>...</td>\n",
       "      <td>...</td>\n",
       "      <td>...</td>\n",
       "      <td>...</td>\n",
       "      <td>...</td>\n",
       "      <td>...</td>\n",
       "      <td>...</td>\n",
       "      <td>...</td>\n",
       "      <td>...</td>\n",
       "      <td>...</td>\n",
       "    </tr>\n",
       "    <tr>\n",
       "      <th>413658</th>\n",
       "      <td>1083457</td>\n",
       "      <td>NaN</td>\n",
       "      <td>NaN</td>\n",
       "      <td>Victim</td>\n",
       "      <td>Male</td>\n",
       "      <td>Injured</td>\n",
       "      <td>2018-03-22</td>\n",
       "      <td>District of Columbia</td>\n",
       "      <td>Washington</td>\n",
       "      <td>1.0</td>\n",
       "      <td>0</td>\n",
       "      <td>1</td>\n",
       "      <td>Unknown</td>\n",
       "      <td>Unknown</td>\n",
       "      <td>2018</td>\n",
       "    </tr>\n",
       "    <tr>\n",
       "      <th>413659</th>\n",
       "      <td>1083457</td>\n",
       "      <td>NaN</td>\n",
       "      <td>NaN</td>\n",
       "      <td>Subject-Suspect</td>\n",
       "      <td>Male</td>\n",
       "      <td>Unharmed</td>\n",
       "      <td>2018-03-22</td>\n",
       "      <td>District of Columbia</td>\n",
       "      <td>Washington</td>\n",
       "      <td>1.0</td>\n",
       "      <td>0</td>\n",
       "      <td>1</td>\n",
       "      <td>Unknown</td>\n",
       "      <td>Unknown</td>\n",
       "      <td>2018</td>\n",
       "    </tr>\n",
       "    <tr>\n",
       "      <th>413660</th>\n",
       "      <td>1083466</td>\n",
       "      <td>NaN</td>\n",
       "      <td>NaN</td>\n",
       "      <td>Subject-Suspect</td>\n",
       "      <td>NaN</td>\n",
       "      <td>NaN</td>\n",
       "      <td>2018-03-29</td>\n",
       "      <td>Ohio</td>\n",
       "      <td>Wickliffe</td>\n",
       "      <td>1.0</td>\n",
       "      <td>0</td>\n",
       "      <td>0</td>\n",
       "      <td>Unknown</td>\n",
       "      <td>Unknown</td>\n",
       "      <td>2018</td>\n",
       "    </tr>\n",
       "    <tr>\n",
       "      <th>413661</th>\n",
       "      <td>1083472</td>\n",
       "      <td>23.0</td>\n",
       "      <td>Adult 18+</td>\n",
       "      <td>Subject-Suspect</td>\n",
       "      <td>Male</td>\n",
       "      <td>Unharmed</td>\n",
       "      <td>2018-03-31</td>\n",
       "      <td>Delaware</td>\n",
       "      <td>Townsend</td>\n",
       "      <td>2.0</td>\n",
       "      <td>0</td>\n",
       "      <td>0</td>\n",
       "      <td>Unknown</td>\n",
       "      <td>9mm</td>\n",
       "      <td>2018</td>\n",
       "    </tr>\n",
       "    <tr>\n",
       "      <th>413662</th>\n",
       "      <td>1083472</td>\n",
       "      <td>20.0</td>\n",
       "      <td>Adult 18+</td>\n",
       "      <td>Subject-Suspect</td>\n",
       "      <td>NaN</td>\n",
       "      <td>Unharmed</td>\n",
       "      <td>2018-03-31</td>\n",
       "      <td>Delaware</td>\n",
       "      <td>Townsend</td>\n",
       "      <td>2.0</td>\n",
       "      <td>0</td>\n",
       "      <td>0</td>\n",
       "      <td>Unknown</td>\n",
       "      <td>9mm</td>\n",
       "      <td>2018</td>\n",
       "    </tr>\n",
       "  </tbody>\n",
       "</table>\n",
       "<p>413663 rows × 15 columns</p>\n",
       "</div>"
      ],
      "text/plain": [
       "        incident_id   age  age_group             type gender    status  \\\n",
       "0             92114   NaN  Adult 18+           Victim   Male   Injured   \n",
       "1             92117  22.0  Adult 18+           Victim   Male   Injured   \n",
       "2             92117   NaN  Adult 18+  Subject-Suspect   Male  Unharmed   \n",
       "3             92119   NaN  Adult 18+           Victim   Male   Injured   \n",
       "4             92122   NaN        NaN           Victim    NaN  Unharmed   \n",
       "...             ...   ...        ...              ...    ...       ...   \n",
       "413658      1083457   NaN        NaN           Victim   Male   Injured   \n",
       "413659      1083457   NaN        NaN  Subject-Suspect   Male  Unharmed   \n",
       "413660      1083466   NaN        NaN  Subject-Suspect    NaN       NaN   \n",
       "413661      1083472  23.0  Adult 18+  Subject-Suspect   Male  Unharmed   \n",
       "413662      1083472  20.0  Adult 18+  Subject-Suspect    NaN  Unharmed   \n",
       "\n",
       "             date                 state          city  number_guns  \\\n",
       "0      2014-01-01              Kentucky     Lexington          NaN   \n",
       "1      2014-01-01              Kentucky     Cynthiana          1.0   \n",
       "2      2014-01-01              Kentucky     Cynthiana          1.0   \n",
       "3      2014-01-01              Kentucky    Louisville          NaN   \n",
       "4      2014-01-01              Virginia  Falls Church          NaN   \n",
       "...           ...                   ...           ...          ...   \n",
       "413658 2018-03-22  District of Columbia    Washington          1.0   \n",
       "413659 2018-03-22  District of Columbia    Washington          1.0   \n",
       "413660 2018-03-29                  Ohio     Wickliffe          1.0   \n",
       "413661 2018-03-31              Delaware      Townsend          2.0   \n",
       "413662 2018-03-31              Delaware      Townsend          2.0   \n",
       "\n",
       "        total_killed  total_injured gun_stolen gun_type  year  \n",
       "0                  0              1        NaN      NaN  2014  \n",
       "1                  0              1    Unknown  Unknown  2014  \n",
       "2                  0              1    Unknown  Unknown  2014  \n",
       "3                  0              1        NaN      NaN  2014  \n",
       "4                  0              0        NaN      NaN  2014  \n",
       "...              ...            ...        ...      ...   ...  \n",
       "413658             0              1    Unknown  Unknown  2018  \n",
       "413659             0              1    Unknown  Unknown  2018  \n",
       "413660             0              0    Unknown  Unknown  2018  \n",
       "413661             0              0    Unknown      9mm  2018  \n",
       "413662             0              0    Unknown      9mm  2018  \n",
       "\n",
       "[413663 rows x 15 columns]"
      ]
     },
     "execution_count": 38,
     "metadata": {},
     "output_type": "execute_result"
    }
   ],
   "source": [
    "joined=new_demo.join(new_static, how='outer')\n",
    "joined=joined.reset_index()\n",
    "joined"
   ]
  },
  {
   "cell_type": "code",
   "execution_count": 39,
   "id": "bcedb8ae",
   "metadata": {
    "scrolled": true
   },
   "outputs": [
    {
     "data": {
      "text/plain": [
       "year  gender        status  \n",
       "2013  Female        Injured       199\n",
       "                    Killed         79\n",
       "                    Unharmed        4\n",
       "      Male          Arrested        8\n",
       "                    Injured       586\n",
       "                    Killed        230\n",
       "                    Unharmed      152\n",
       "2014  Female        Arrested       13\n",
       "                    Injured      2897\n",
       "                    Killed       1687\n",
       "                    Unharmed     4979\n",
       "      Male          Arrested      145\n",
       "                    Injured     16712\n",
       "                    Killed       9579\n",
       "                    Unharmed    38246\n",
       "      Male, female  Injured         1\n",
       "2015  Female        Arrested      136\n",
       "                    Injured      3509\n",
       "                    Killed       1944\n",
       "                    Unharmed     4176\n",
       "      Male          Arrested     1746\n",
       "                    Injured     21019\n",
       "                    Killed      11310\n",
       "                    Unharmed    34119\n",
       "2016  Female        Arrested      211\n",
       "                    Injured      3977\n",
       "                    Killed       2215\n",
       "                    Unharmed     4070\n",
       "      Male          Arrested     2050\n",
       "                    Injured     23565\n",
       "                    Killed      12597\n",
       "                    Unharmed    36769\n",
       "2017  Female        Arrested      357\n",
       "                    Injured      4120\n",
       "                    Killed       2307\n",
       "                    Unharmed     2906\n",
       "      Male          Arrested     3591\n",
       "                    Injured     23423\n",
       "                    Killed      12913\n",
       "                    Unharmed    34241\n",
       "2018  Female        Arrested       56\n",
       "                    Injured       845\n",
       "                    Killed        591\n",
       "                    Unharmed      728\n",
       "      Male          Arrested      567\n",
       "                    Injured      4652\n",
       "                    Killed       2867\n",
       "                    Unharmed     7980\n",
       "Name: incident_id, dtype: int64"
      ]
     },
     "execution_count": 39,
     "metadata": {},
     "output_type": "execute_result"
    }
   ],
   "source": [
    "year_gender_info=joined.groupby(['year','gender', 'status'])['incident_id'].count()\n",
    "year_gender_info"
   ]
  },
  {
   "cell_type": "code",
   "execution_count": 40,
   "id": "e82e0f26",
   "metadata": {
    "scrolled": true
   },
   "outputs": [
    {
     "data": {
      "text/html": [
       "<div>\n",
       "<style scoped>\n",
       "    .dataframe tbody tr th:only-of-type {\n",
       "        vertical-align: middle;\n",
       "    }\n",
       "\n",
       "    .dataframe tbody tr th {\n",
       "        vertical-align: top;\n",
       "    }\n",
       "\n",
       "    .dataframe thead th {\n",
       "        text-align: right;\n",
       "    }\n",
       "</style>\n",
       "<table border=\"1\" class=\"dataframe\">\n",
       "  <thead>\n",
       "    <tr style=\"text-align: right;\">\n",
       "      <th></th>\n",
       "      <th></th>\n",
       "      <th></th>\n",
       "      <th>incident_id</th>\n",
       "    </tr>\n",
       "    <tr>\n",
       "      <th>year</th>\n",
       "      <th>gender</th>\n",
       "      <th>status</th>\n",
       "      <th></th>\n",
       "    </tr>\n",
       "  </thead>\n",
       "  <tbody>\n",
       "    <tr>\n",
       "      <th rowspan=\"7\" valign=\"top\">2013</th>\n",
       "      <th rowspan=\"3\" valign=\"top\">Female</th>\n",
       "      <th>Injured</th>\n",
       "      <td>199</td>\n",
       "    </tr>\n",
       "    <tr>\n",
       "      <th>Killed</th>\n",
       "      <td>79</td>\n",
       "    </tr>\n",
       "    <tr>\n",
       "      <th>Unharmed</th>\n",
       "      <td>4</td>\n",
       "    </tr>\n",
       "    <tr>\n",
       "      <th rowspan=\"4\" valign=\"top\">Male</th>\n",
       "      <th>Arrested</th>\n",
       "      <td>8</td>\n",
       "    </tr>\n",
       "    <tr>\n",
       "      <th>Injured</th>\n",
       "      <td>586</td>\n",
       "    </tr>\n",
       "    <tr>\n",
       "      <th>Killed</th>\n",
       "      <td>230</td>\n",
       "    </tr>\n",
       "    <tr>\n",
       "      <th>Unharmed</th>\n",
       "      <td>152</td>\n",
       "    </tr>\n",
       "    <tr>\n",
       "      <th rowspan=\"9\" valign=\"top\">2014</th>\n",
       "      <th rowspan=\"4\" valign=\"top\">Female</th>\n",
       "      <th>Arrested</th>\n",
       "      <td>13</td>\n",
       "    </tr>\n",
       "    <tr>\n",
       "      <th>Injured</th>\n",
       "      <td>2897</td>\n",
       "    </tr>\n",
       "    <tr>\n",
       "      <th>Killed</th>\n",
       "      <td>1687</td>\n",
       "    </tr>\n",
       "    <tr>\n",
       "      <th>Unharmed</th>\n",
       "      <td>4979</td>\n",
       "    </tr>\n",
       "    <tr>\n",
       "      <th rowspan=\"4\" valign=\"top\">Male</th>\n",
       "      <th>Arrested</th>\n",
       "      <td>145</td>\n",
       "    </tr>\n",
       "    <tr>\n",
       "      <th>Injured</th>\n",
       "      <td>16712</td>\n",
       "    </tr>\n",
       "    <tr>\n",
       "      <th>Killed</th>\n",
       "      <td>9579</td>\n",
       "    </tr>\n",
       "    <tr>\n",
       "      <th>Unharmed</th>\n",
       "      <td>38246</td>\n",
       "    </tr>\n",
       "    <tr>\n",
       "      <th>Male, female</th>\n",
       "      <th>Injured</th>\n",
       "      <td>1</td>\n",
       "    </tr>\n",
       "    <tr>\n",
       "      <th rowspan=\"8\" valign=\"top\">2015</th>\n",
       "      <th rowspan=\"4\" valign=\"top\">Female</th>\n",
       "      <th>Arrested</th>\n",
       "      <td>136</td>\n",
       "    </tr>\n",
       "    <tr>\n",
       "      <th>Injured</th>\n",
       "      <td>3509</td>\n",
       "    </tr>\n",
       "    <tr>\n",
       "      <th>Killed</th>\n",
       "      <td>1944</td>\n",
       "    </tr>\n",
       "    <tr>\n",
       "      <th>Unharmed</th>\n",
       "      <td>4176</td>\n",
       "    </tr>\n",
       "    <tr>\n",
       "      <th rowspan=\"4\" valign=\"top\">Male</th>\n",
       "      <th>Arrested</th>\n",
       "      <td>1746</td>\n",
       "    </tr>\n",
       "    <tr>\n",
       "      <th>Injured</th>\n",
       "      <td>21019</td>\n",
       "    </tr>\n",
       "    <tr>\n",
       "      <th>Killed</th>\n",
       "      <td>11310</td>\n",
       "    </tr>\n",
       "    <tr>\n",
       "      <th>Unharmed</th>\n",
       "      <td>34119</td>\n",
       "    </tr>\n",
       "    <tr>\n",
       "      <th rowspan=\"8\" valign=\"top\">2016</th>\n",
       "      <th rowspan=\"4\" valign=\"top\">Female</th>\n",
       "      <th>Arrested</th>\n",
       "      <td>211</td>\n",
       "    </tr>\n",
       "    <tr>\n",
       "      <th>Injured</th>\n",
       "      <td>3977</td>\n",
       "    </tr>\n",
       "    <tr>\n",
       "      <th>Killed</th>\n",
       "      <td>2215</td>\n",
       "    </tr>\n",
       "    <tr>\n",
       "      <th>Unharmed</th>\n",
       "      <td>4070</td>\n",
       "    </tr>\n",
       "    <tr>\n",
       "      <th rowspan=\"4\" valign=\"top\">Male</th>\n",
       "      <th>Arrested</th>\n",
       "      <td>2050</td>\n",
       "    </tr>\n",
       "    <tr>\n",
       "      <th>Injured</th>\n",
       "      <td>23565</td>\n",
       "    </tr>\n",
       "    <tr>\n",
       "      <th>Killed</th>\n",
       "      <td>12597</td>\n",
       "    </tr>\n",
       "    <tr>\n",
       "      <th>Unharmed</th>\n",
       "      <td>36769</td>\n",
       "    </tr>\n",
       "    <tr>\n",
       "      <th rowspan=\"8\" valign=\"top\">2017</th>\n",
       "      <th rowspan=\"4\" valign=\"top\">Female</th>\n",
       "      <th>Arrested</th>\n",
       "      <td>357</td>\n",
       "    </tr>\n",
       "    <tr>\n",
       "      <th>Injured</th>\n",
       "      <td>4120</td>\n",
       "    </tr>\n",
       "    <tr>\n",
       "      <th>Killed</th>\n",
       "      <td>2307</td>\n",
       "    </tr>\n",
       "    <tr>\n",
       "      <th>Unharmed</th>\n",
       "      <td>2906</td>\n",
       "    </tr>\n",
       "    <tr>\n",
       "      <th rowspan=\"4\" valign=\"top\">Male</th>\n",
       "      <th>Arrested</th>\n",
       "      <td>3591</td>\n",
       "    </tr>\n",
       "    <tr>\n",
       "      <th>Injured</th>\n",
       "      <td>23423</td>\n",
       "    </tr>\n",
       "    <tr>\n",
       "      <th>Killed</th>\n",
       "      <td>12913</td>\n",
       "    </tr>\n",
       "    <tr>\n",
       "      <th>Unharmed</th>\n",
       "      <td>34241</td>\n",
       "    </tr>\n",
       "    <tr>\n",
       "      <th rowspan=\"8\" valign=\"top\">2018</th>\n",
       "      <th rowspan=\"4\" valign=\"top\">Female</th>\n",
       "      <th>Arrested</th>\n",
       "      <td>56</td>\n",
       "    </tr>\n",
       "    <tr>\n",
       "      <th>Injured</th>\n",
       "      <td>845</td>\n",
       "    </tr>\n",
       "    <tr>\n",
       "      <th>Killed</th>\n",
       "      <td>591</td>\n",
       "    </tr>\n",
       "    <tr>\n",
       "      <th>Unharmed</th>\n",
       "      <td>728</td>\n",
       "    </tr>\n",
       "    <tr>\n",
       "      <th rowspan=\"4\" valign=\"top\">Male</th>\n",
       "      <th>Arrested</th>\n",
       "      <td>567</td>\n",
       "    </tr>\n",
       "    <tr>\n",
       "      <th>Injured</th>\n",
       "      <td>4652</td>\n",
       "    </tr>\n",
       "    <tr>\n",
       "      <th>Killed</th>\n",
       "      <td>2867</td>\n",
       "    </tr>\n",
       "    <tr>\n",
       "      <th>Unharmed</th>\n",
       "      <td>7980</td>\n",
       "    </tr>\n",
       "  </tbody>\n",
       "</table>\n",
       "</div>"
      ],
      "text/plain": [
       "                            incident_id\n",
       "year gender       status               \n",
       "2013 Female       Injured           199\n",
       "                  Killed             79\n",
       "                  Unharmed            4\n",
       "     Male         Arrested            8\n",
       "                  Injured           586\n",
       "                  Killed            230\n",
       "                  Unharmed          152\n",
       "2014 Female       Arrested           13\n",
       "                  Injured          2897\n",
       "                  Killed           1687\n",
       "                  Unharmed         4979\n",
       "     Male         Arrested          145\n",
       "                  Injured         16712\n",
       "                  Killed           9579\n",
       "                  Unharmed        38246\n",
       "     Male, female Injured             1\n",
       "2015 Female       Arrested          136\n",
       "                  Injured          3509\n",
       "                  Killed           1944\n",
       "                  Unharmed         4176\n",
       "     Male         Arrested         1746\n",
       "                  Injured         21019\n",
       "                  Killed          11310\n",
       "                  Unharmed        34119\n",
       "2016 Female       Arrested          211\n",
       "                  Injured          3977\n",
       "                  Killed           2215\n",
       "                  Unharmed         4070\n",
       "     Male         Arrested         2050\n",
       "                  Injured         23565\n",
       "                  Killed          12597\n",
       "                  Unharmed        36769\n",
       "2017 Female       Arrested          357\n",
       "                  Injured          4120\n",
       "                  Killed           2307\n",
       "                  Unharmed         2906\n",
       "     Male         Arrested         3591\n",
       "                  Injured         23423\n",
       "                  Killed          12913\n",
       "                  Unharmed        34241\n",
       "2018 Female       Arrested           56\n",
       "                  Injured           845\n",
       "                  Killed            591\n",
       "                  Unharmed          728\n",
       "     Male         Arrested          567\n",
       "                  Injured          4652\n",
       "                  Killed           2867\n",
       "                  Unharmed         7980"
      ]
     },
     "execution_count": 40,
     "metadata": {},
     "output_type": "execute_result"
    }
   ],
   "source": [
    "df_ygi=year_gender_info.to_frame()\n",
    "df_ygi\n",
    "#ygi_clean = df_ygi[df_ygi.status != \"Arrested\"]\n",
    "#ygi_clean"
   ]
  },
  {
   "cell_type": "code",
   "execution_count": 42,
   "id": "a241b550",
   "metadata": {},
   "outputs": [],
   "source": [
    "stacked_df = pd.DataFrame(\n",
    "    dict(\n",
    "        year=[2013, 2013, 2013, 2013, 2013, 2013,\n",
    "              2014, 2014, 2014, 2014, 2014, 2014,\n",
    "              2015, 2015, 2015, 2015, 2015, 2015,\n",
    "              2016, 2016, 2016, 2016, 2016, 2016,\n",
    "              2017, 2017, 2017, 2017, 2017, 2017,\n",
    "              2018, 2018, 2018, 2018, 2018, 2018],\n",
    "        gender=[\"female\", \"female\", \"female\", \"male\", \"male\", \"male\"] * 6,\n",
    "        status=[\"Injured\",\"Killed\",\"Unharmed\"] * 12,\n",
    "        cnt=[199,79, 4, 586,230, 152,2897,1687,4979,16712,9579,38246,3509,\n",
    "             1944,4176,21019,11310,34119,3977,2215,4070,23565,12597,36769,\n",
    "             120,2307,2906,23423,12913,34241,845,591,728,4652,2867,7980],\n",
    "    )\n",
    ")"
   ]
  },
  {
   "cell_type": "code",
   "execution_count": 43,
   "id": "d61bbffd",
   "metadata": {},
   "outputs": [
    {
     "data": {
      "text/html": [
       "<div>\n",
       "<style scoped>\n",
       "    .dataframe tbody tr th:only-of-type {\n",
       "        vertical-align: middle;\n",
       "    }\n",
       "\n",
       "    .dataframe tbody tr th {\n",
       "        vertical-align: top;\n",
       "    }\n",
       "\n",
       "    .dataframe thead th {\n",
       "        text-align: right;\n",
       "    }\n",
       "</style>\n",
       "<table border=\"1\" class=\"dataframe\">\n",
       "  <thead>\n",
       "    <tr style=\"text-align: right;\">\n",
       "      <th></th>\n",
       "      <th>year</th>\n",
       "      <th>gender</th>\n",
       "      <th>status</th>\n",
       "      <th>cnt</th>\n",
       "    </tr>\n",
       "  </thead>\n",
       "  <tbody>\n",
       "    <tr>\n",
       "      <th>0</th>\n",
       "      <td>2013</td>\n",
       "      <td>female</td>\n",
       "      <td>Injured</td>\n",
       "      <td>199</td>\n",
       "    </tr>\n",
       "    <tr>\n",
       "      <th>1</th>\n",
       "      <td>2013</td>\n",
       "      <td>female</td>\n",
       "      <td>Killed</td>\n",
       "      <td>79</td>\n",
       "    </tr>\n",
       "    <tr>\n",
       "      <th>2</th>\n",
       "      <td>2013</td>\n",
       "      <td>female</td>\n",
       "      <td>Unharmed</td>\n",
       "      <td>4</td>\n",
       "    </tr>\n",
       "    <tr>\n",
       "      <th>3</th>\n",
       "      <td>2013</td>\n",
       "      <td>male</td>\n",
       "      <td>Injured</td>\n",
       "      <td>586</td>\n",
       "    </tr>\n",
       "    <tr>\n",
       "      <th>4</th>\n",
       "      <td>2013</td>\n",
       "      <td>male</td>\n",
       "      <td>Killed</td>\n",
       "      <td>230</td>\n",
       "    </tr>\n",
       "    <tr>\n",
       "      <th>5</th>\n",
       "      <td>2013</td>\n",
       "      <td>male</td>\n",
       "      <td>Unharmed</td>\n",
       "      <td>152</td>\n",
       "    </tr>\n",
       "    <tr>\n",
       "      <th>6</th>\n",
       "      <td>2014</td>\n",
       "      <td>female</td>\n",
       "      <td>Injured</td>\n",
       "      <td>2897</td>\n",
       "    </tr>\n",
       "    <tr>\n",
       "      <th>7</th>\n",
       "      <td>2014</td>\n",
       "      <td>female</td>\n",
       "      <td>Killed</td>\n",
       "      <td>1687</td>\n",
       "    </tr>\n",
       "    <tr>\n",
       "      <th>8</th>\n",
       "      <td>2014</td>\n",
       "      <td>female</td>\n",
       "      <td>Unharmed</td>\n",
       "      <td>4979</td>\n",
       "    </tr>\n",
       "    <tr>\n",
       "      <th>9</th>\n",
       "      <td>2014</td>\n",
       "      <td>male</td>\n",
       "      <td>Injured</td>\n",
       "      <td>16712</td>\n",
       "    </tr>\n",
       "    <tr>\n",
       "      <th>10</th>\n",
       "      <td>2014</td>\n",
       "      <td>male</td>\n",
       "      <td>Killed</td>\n",
       "      <td>9579</td>\n",
       "    </tr>\n",
       "    <tr>\n",
       "      <th>11</th>\n",
       "      <td>2014</td>\n",
       "      <td>male</td>\n",
       "      <td>Unharmed</td>\n",
       "      <td>38246</td>\n",
       "    </tr>\n",
       "    <tr>\n",
       "      <th>12</th>\n",
       "      <td>2015</td>\n",
       "      <td>female</td>\n",
       "      <td>Injured</td>\n",
       "      <td>3509</td>\n",
       "    </tr>\n",
       "    <tr>\n",
       "      <th>13</th>\n",
       "      <td>2015</td>\n",
       "      <td>female</td>\n",
       "      <td>Killed</td>\n",
       "      <td>1944</td>\n",
       "    </tr>\n",
       "    <tr>\n",
       "      <th>14</th>\n",
       "      <td>2015</td>\n",
       "      <td>female</td>\n",
       "      <td>Unharmed</td>\n",
       "      <td>4176</td>\n",
       "    </tr>\n",
       "    <tr>\n",
       "      <th>15</th>\n",
       "      <td>2015</td>\n",
       "      <td>male</td>\n",
       "      <td>Injured</td>\n",
       "      <td>21019</td>\n",
       "    </tr>\n",
       "    <tr>\n",
       "      <th>16</th>\n",
       "      <td>2015</td>\n",
       "      <td>male</td>\n",
       "      <td>Killed</td>\n",
       "      <td>11310</td>\n",
       "    </tr>\n",
       "    <tr>\n",
       "      <th>17</th>\n",
       "      <td>2015</td>\n",
       "      <td>male</td>\n",
       "      <td>Unharmed</td>\n",
       "      <td>34119</td>\n",
       "    </tr>\n",
       "    <tr>\n",
       "      <th>18</th>\n",
       "      <td>2016</td>\n",
       "      <td>female</td>\n",
       "      <td>Injured</td>\n",
       "      <td>3977</td>\n",
       "    </tr>\n",
       "    <tr>\n",
       "      <th>19</th>\n",
       "      <td>2016</td>\n",
       "      <td>female</td>\n",
       "      <td>Killed</td>\n",
       "      <td>2215</td>\n",
       "    </tr>\n",
       "    <tr>\n",
       "      <th>20</th>\n",
       "      <td>2016</td>\n",
       "      <td>female</td>\n",
       "      <td>Unharmed</td>\n",
       "      <td>4070</td>\n",
       "    </tr>\n",
       "    <tr>\n",
       "      <th>21</th>\n",
       "      <td>2016</td>\n",
       "      <td>male</td>\n",
       "      <td>Injured</td>\n",
       "      <td>23565</td>\n",
       "    </tr>\n",
       "    <tr>\n",
       "      <th>22</th>\n",
       "      <td>2016</td>\n",
       "      <td>male</td>\n",
       "      <td>Killed</td>\n",
       "      <td>12597</td>\n",
       "    </tr>\n",
       "    <tr>\n",
       "      <th>23</th>\n",
       "      <td>2016</td>\n",
       "      <td>male</td>\n",
       "      <td>Unharmed</td>\n",
       "      <td>36769</td>\n",
       "    </tr>\n",
       "    <tr>\n",
       "      <th>24</th>\n",
       "      <td>2017</td>\n",
       "      <td>female</td>\n",
       "      <td>Injured</td>\n",
       "      <td>120</td>\n",
       "    </tr>\n",
       "    <tr>\n",
       "      <th>25</th>\n",
       "      <td>2017</td>\n",
       "      <td>female</td>\n",
       "      <td>Killed</td>\n",
       "      <td>2307</td>\n",
       "    </tr>\n",
       "    <tr>\n",
       "      <th>26</th>\n",
       "      <td>2017</td>\n",
       "      <td>female</td>\n",
       "      <td>Unharmed</td>\n",
       "      <td>2906</td>\n",
       "    </tr>\n",
       "    <tr>\n",
       "      <th>27</th>\n",
       "      <td>2017</td>\n",
       "      <td>male</td>\n",
       "      <td>Injured</td>\n",
       "      <td>23423</td>\n",
       "    </tr>\n",
       "    <tr>\n",
       "      <th>28</th>\n",
       "      <td>2017</td>\n",
       "      <td>male</td>\n",
       "      <td>Killed</td>\n",
       "      <td>12913</td>\n",
       "    </tr>\n",
       "    <tr>\n",
       "      <th>29</th>\n",
       "      <td>2017</td>\n",
       "      <td>male</td>\n",
       "      <td>Unharmed</td>\n",
       "      <td>34241</td>\n",
       "    </tr>\n",
       "    <tr>\n",
       "      <th>30</th>\n",
       "      <td>2018</td>\n",
       "      <td>female</td>\n",
       "      <td>Injured</td>\n",
       "      <td>845</td>\n",
       "    </tr>\n",
       "    <tr>\n",
       "      <th>31</th>\n",
       "      <td>2018</td>\n",
       "      <td>female</td>\n",
       "      <td>Killed</td>\n",
       "      <td>591</td>\n",
       "    </tr>\n",
       "    <tr>\n",
       "      <th>32</th>\n",
       "      <td>2018</td>\n",
       "      <td>female</td>\n",
       "      <td>Unharmed</td>\n",
       "      <td>728</td>\n",
       "    </tr>\n",
       "    <tr>\n",
       "      <th>33</th>\n",
       "      <td>2018</td>\n",
       "      <td>male</td>\n",
       "      <td>Injured</td>\n",
       "      <td>4652</td>\n",
       "    </tr>\n",
       "    <tr>\n",
       "      <th>34</th>\n",
       "      <td>2018</td>\n",
       "      <td>male</td>\n",
       "      <td>Killed</td>\n",
       "      <td>2867</td>\n",
       "    </tr>\n",
       "    <tr>\n",
       "      <th>35</th>\n",
       "      <td>2018</td>\n",
       "      <td>male</td>\n",
       "      <td>Unharmed</td>\n",
       "      <td>7980</td>\n",
       "    </tr>\n",
       "  </tbody>\n",
       "</table>\n",
       "</div>"
      ],
      "text/plain": [
       "    year  gender    status    cnt\n",
       "0   2013  female   Injured    199\n",
       "1   2013  female    Killed     79\n",
       "2   2013  female  Unharmed      4\n",
       "3   2013    male   Injured    586\n",
       "4   2013    male    Killed    230\n",
       "5   2013    male  Unharmed    152\n",
       "6   2014  female   Injured   2897\n",
       "7   2014  female    Killed   1687\n",
       "8   2014  female  Unharmed   4979\n",
       "9   2014    male   Injured  16712\n",
       "10  2014    male    Killed   9579\n",
       "11  2014    male  Unharmed  38246\n",
       "12  2015  female   Injured   3509\n",
       "13  2015  female    Killed   1944\n",
       "14  2015  female  Unharmed   4176\n",
       "15  2015    male   Injured  21019\n",
       "16  2015    male    Killed  11310\n",
       "17  2015    male  Unharmed  34119\n",
       "18  2016  female   Injured   3977\n",
       "19  2016  female    Killed   2215\n",
       "20  2016  female  Unharmed   4070\n",
       "21  2016    male   Injured  23565\n",
       "22  2016    male    Killed  12597\n",
       "23  2016    male  Unharmed  36769\n",
       "24  2017  female   Injured    120\n",
       "25  2017  female    Killed   2307\n",
       "26  2017  female  Unharmed   2906\n",
       "27  2017    male   Injured  23423\n",
       "28  2017    male    Killed  12913\n",
       "29  2017    male  Unharmed  34241\n",
       "30  2018  female   Injured    845\n",
       "31  2018  female    Killed    591\n",
       "32  2018  female  Unharmed    728\n",
       "33  2018    male   Injured   4652\n",
       "34  2018    male    Killed   2867\n",
       "35  2018    male  Unharmed   7980"
      ]
     },
     "execution_count": 43,
     "metadata": {},
     "output_type": "execute_result"
    }
   ],
   "source": [
    "stacked_df"
   ]
  },
  {
   "cell_type": "code",
   "execution_count": 45,
   "id": "af87bc6d",
   "metadata": {},
   "outputs": [
    {
     "data": {
      "application/vnd.plotly.v1+json": {
       "config": {
        "plotlyServerURL": "https://plot.ly"
       },
       "data": [
        {
         "marker": {
          "color": "#2A66DE"
         },
         "name": "female",
         "type": "bar",
         "x": [
          [
           2013,
           2013,
           2013,
           2014,
           2014,
           2014,
           2015,
           2015,
           2015,
           2016,
           2016,
           2016,
           2017,
           2017,
           2017,
           2018,
           2018,
           2018
          ],
          [
           "Injured",
           "Killed",
           "Unharmed",
           "Injured",
           "Killed",
           "Unharmed",
           "Injured",
           "Killed",
           "Unharmed",
           "Injured",
           "Killed",
           "Unharmed",
           "Injured",
           "Killed",
           "Unharmed",
           "Injured",
           "Killed",
           "Unharmed"
          ]
         ],
         "y": [
          199,
          79,
          4,
          2897,
          1687,
          4979,
          3509,
          1944,
          4176,
          3977,
          2215,
          4070,
          120,
          2307,
          2906,
          845,
          591,
          728
         ]
        },
        {
         "marker": {
          "color": "#FFC32B"
         },
         "name": "male",
         "type": "bar",
         "x": [
          [
           2013,
           2013,
           2013,
           2014,
           2014,
           2014,
           2015,
           2015,
           2015,
           2016,
           2016,
           2016,
           2017,
           2017,
           2017,
           2018,
           2018,
           2018
          ],
          [
           "Injured",
           "Killed",
           "Unharmed",
           "Injured",
           "Killed",
           "Unharmed",
           "Injured",
           "Killed",
           "Unharmed",
           "Injured",
           "Killed",
           "Unharmed",
           "Injured",
           "Killed",
           "Unharmed",
           "Injured",
           "Killed",
           "Unharmed"
          ]
         ],
         "y": [
          586,
          230,
          152,
          16712,
          9579,
          38246,
          21019,
          11310,
          34119,
          23565,
          12597,
          36769,
          23423,
          12913,
          34241,
          4652,
          2867,
          7980
         ]
        }
       ],
       "layout": {
        "autosize": false,
        "barmode": "stack",
        "height": 800,
        "template": {
         "data": {
          "bar": [
           {
            "error_x": {
             "color": "rgb(36,36,36)"
            },
            "error_y": {
             "color": "rgb(36,36,36)"
            },
            "marker": {
             "line": {
              "color": "white",
              "width": 0.5
             },
             "pattern": {
              "fillmode": "overlay",
              "size": 10,
              "solidity": 0.2
             }
            },
            "type": "bar"
           }
          ],
          "barpolar": [
           {
            "marker": {
             "line": {
              "color": "white",
              "width": 0.5
             },
             "pattern": {
              "fillmode": "overlay",
              "size": 10,
              "solidity": 0.2
             }
            },
            "type": "barpolar"
           }
          ],
          "carpet": [
           {
            "aaxis": {
             "endlinecolor": "rgb(36,36,36)",
             "gridcolor": "white",
             "linecolor": "white",
             "minorgridcolor": "white",
             "startlinecolor": "rgb(36,36,36)"
            },
            "baxis": {
             "endlinecolor": "rgb(36,36,36)",
             "gridcolor": "white",
             "linecolor": "white",
             "minorgridcolor": "white",
             "startlinecolor": "rgb(36,36,36)"
            },
            "type": "carpet"
           }
          ],
          "choropleth": [
           {
            "colorbar": {
             "outlinewidth": 1,
             "tickcolor": "rgb(36,36,36)",
             "ticks": "outside"
            },
            "type": "choropleth"
           }
          ],
          "contour": [
           {
            "colorbar": {
             "outlinewidth": 1,
             "tickcolor": "rgb(36,36,36)",
             "ticks": "outside"
            },
            "colorscale": [
             [
              0,
              "#440154"
             ],
             [
              0.1111111111111111,
              "#482878"
             ],
             [
              0.2222222222222222,
              "#3e4989"
             ],
             [
              0.3333333333333333,
              "#31688e"
             ],
             [
              0.4444444444444444,
              "#26828e"
             ],
             [
              0.5555555555555556,
              "#1f9e89"
             ],
             [
              0.6666666666666666,
              "#35b779"
             ],
             [
              0.7777777777777778,
              "#6ece58"
             ],
             [
              0.8888888888888888,
              "#b5de2b"
             ],
             [
              1,
              "#fde725"
             ]
            ],
            "type": "contour"
           }
          ],
          "contourcarpet": [
           {
            "colorbar": {
             "outlinewidth": 1,
             "tickcolor": "rgb(36,36,36)",
             "ticks": "outside"
            },
            "type": "contourcarpet"
           }
          ],
          "heatmap": [
           {
            "colorbar": {
             "outlinewidth": 1,
             "tickcolor": "rgb(36,36,36)",
             "ticks": "outside"
            },
            "colorscale": [
             [
              0,
              "#440154"
             ],
             [
              0.1111111111111111,
              "#482878"
             ],
             [
              0.2222222222222222,
              "#3e4989"
             ],
             [
              0.3333333333333333,
              "#31688e"
             ],
             [
              0.4444444444444444,
              "#26828e"
             ],
             [
              0.5555555555555556,
              "#1f9e89"
             ],
             [
              0.6666666666666666,
              "#35b779"
             ],
             [
              0.7777777777777778,
              "#6ece58"
             ],
             [
              0.8888888888888888,
              "#b5de2b"
             ],
             [
              1,
              "#fde725"
             ]
            ],
            "type": "heatmap"
           }
          ],
          "heatmapgl": [
           {
            "colorbar": {
             "outlinewidth": 1,
             "tickcolor": "rgb(36,36,36)",
             "ticks": "outside"
            },
            "colorscale": [
             [
              0,
              "#440154"
             ],
             [
              0.1111111111111111,
              "#482878"
             ],
             [
              0.2222222222222222,
              "#3e4989"
             ],
             [
              0.3333333333333333,
              "#31688e"
             ],
             [
              0.4444444444444444,
              "#26828e"
             ],
             [
              0.5555555555555556,
              "#1f9e89"
             ],
             [
              0.6666666666666666,
              "#35b779"
             ],
             [
              0.7777777777777778,
              "#6ece58"
             ],
             [
              0.8888888888888888,
              "#b5de2b"
             ],
             [
              1,
              "#fde725"
             ]
            ],
            "type": "heatmapgl"
           }
          ],
          "histogram": [
           {
            "marker": {
             "line": {
              "color": "white",
              "width": 0.6
             }
            },
            "type": "histogram"
           }
          ],
          "histogram2d": [
           {
            "colorbar": {
             "outlinewidth": 1,
             "tickcolor": "rgb(36,36,36)",
             "ticks": "outside"
            },
            "colorscale": [
             [
              0,
              "#440154"
             ],
             [
              0.1111111111111111,
              "#482878"
             ],
             [
              0.2222222222222222,
              "#3e4989"
             ],
             [
              0.3333333333333333,
              "#31688e"
             ],
             [
              0.4444444444444444,
              "#26828e"
             ],
             [
              0.5555555555555556,
              "#1f9e89"
             ],
             [
              0.6666666666666666,
              "#35b779"
             ],
             [
              0.7777777777777778,
              "#6ece58"
             ],
             [
              0.8888888888888888,
              "#b5de2b"
             ],
             [
              1,
              "#fde725"
             ]
            ],
            "type": "histogram2d"
           }
          ],
          "histogram2dcontour": [
           {
            "colorbar": {
             "outlinewidth": 1,
             "tickcolor": "rgb(36,36,36)",
             "ticks": "outside"
            },
            "colorscale": [
             [
              0,
              "#440154"
             ],
             [
              0.1111111111111111,
              "#482878"
             ],
             [
              0.2222222222222222,
              "#3e4989"
             ],
             [
              0.3333333333333333,
              "#31688e"
             ],
             [
              0.4444444444444444,
              "#26828e"
             ],
             [
              0.5555555555555556,
              "#1f9e89"
             ],
             [
              0.6666666666666666,
              "#35b779"
             ],
             [
              0.7777777777777778,
              "#6ece58"
             ],
             [
              0.8888888888888888,
              "#b5de2b"
             ],
             [
              1,
              "#fde725"
             ]
            ],
            "type": "histogram2dcontour"
           }
          ],
          "mesh3d": [
           {
            "colorbar": {
             "outlinewidth": 1,
             "tickcolor": "rgb(36,36,36)",
             "ticks": "outside"
            },
            "type": "mesh3d"
           }
          ],
          "parcoords": [
           {
            "line": {
             "colorbar": {
              "outlinewidth": 1,
              "tickcolor": "rgb(36,36,36)",
              "ticks": "outside"
             }
            },
            "type": "parcoords"
           }
          ],
          "pie": [
           {
            "automargin": true,
            "type": "pie"
           }
          ],
          "scatter": [
           {
            "marker": {
             "colorbar": {
              "outlinewidth": 1,
              "tickcolor": "rgb(36,36,36)",
              "ticks": "outside"
             }
            },
            "type": "scatter"
           }
          ],
          "scatter3d": [
           {
            "line": {
             "colorbar": {
              "outlinewidth": 1,
              "tickcolor": "rgb(36,36,36)",
              "ticks": "outside"
             }
            },
            "marker": {
             "colorbar": {
              "outlinewidth": 1,
              "tickcolor": "rgb(36,36,36)",
              "ticks": "outside"
             }
            },
            "type": "scatter3d"
           }
          ],
          "scattercarpet": [
           {
            "marker": {
             "colorbar": {
              "outlinewidth": 1,
              "tickcolor": "rgb(36,36,36)",
              "ticks": "outside"
             }
            },
            "type": "scattercarpet"
           }
          ],
          "scattergeo": [
           {
            "marker": {
             "colorbar": {
              "outlinewidth": 1,
              "tickcolor": "rgb(36,36,36)",
              "ticks": "outside"
             }
            },
            "type": "scattergeo"
           }
          ],
          "scattergl": [
           {
            "marker": {
             "colorbar": {
              "outlinewidth": 1,
              "tickcolor": "rgb(36,36,36)",
              "ticks": "outside"
             }
            },
            "type": "scattergl"
           }
          ],
          "scattermapbox": [
           {
            "marker": {
             "colorbar": {
              "outlinewidth": 1,
              "tickcolor": "rgb(36,36,36)",
              "ticks": "outside"
             }
            },
            "type": "scattermapbox"
           }
          ],
          "scatterpolar": [
           {
            "marker": {
             "colorbar": {
              "outlinewidth": 1,
              "tickcolor": "rgb(36,36,36)",
              "ticks": "outside"
             }
            },
            "type": "scatterpolar"
           }
          ],
          "scatterpolargl": [
           {
            "marker": {
             "colorbar": {
              "outlinewidth": 1,
              "tickcolor": "rgb(36,36,36)",
              "ticks": "outside"
             }
            },
            "type": "scatterpolargl"
           }
          ],
          "scatterternary": [
           {
            "marker": {
             "colorbar": {
              "outlinewidth": 1,
              "tickcolor": "rgb(36,36,36)",
              "ticks": "outside"
             }
            },
            "type": "scatterternary"
           }
          ],
          "surface": [
           {
            "colorbar": {
             "outlinewidth": 1,
             "tickcolor": "rgb(36,36,36)",
             "ticks": "outside"
            },
            "colorscale": [
             [
              0,
              "#440154"
             ],
             [
              0.1111111111111111,
              "#482878"
             ],
             [
              0.2222222222222222,
              "#3e4989"
             ],
             [
              0.3333333333333333,
              "#31688e"
             ],
             [
              0.4444444444444444,
              "#26828e"
             ],
             [
              0.5555555555555556,
              "#1f9e89"
             ],
             [
              0.6666666666666666,
              "#35b779"
             ],
             [
              0.7777777777777778,
              "#6ece58"
             ],
             [
              0.8888888888888888,
              "#b5de2b"
             ],
             [
              1,
              "#fde725"
             ]
            ],
            "type": "surface"
           }
          ],
          "table": [
           {
            "cells": {
             "fill": {
              "color": "rgb(237,237,237)"
             },
             "line": {
              "color": "white"
             }
            },
            "header": {
             "fill": {
              "color": "rgb(217,217,217)"
             },
             "line": {
              "color": "white"
             }
            },
            "type": "table"
           }
          ]
         },
         "layout": {
          "annotationdefaults": {
           "arrowhead": 0,
           "arrowwidth": 1
          },
          "autotypenumbers": "strict",
          "coloraxis": {
           "colorbar": {
            "outlinewidth": 1,
            "tickcolor": "rgb(36,36,36)",
            "ticks": "outside"
           }
          },
          "colorscale": {
           "diverging": [
            [
             0,
             "rgb(103,0,31)"
            ],
            [
             0.1,
             "rgb(178,24,43)"
            ],
            [
             0.2,
             "rgb(214,96,77)"
            ],
            [
             0.3,
             "rgb(244,165,130)"
            ],
            [
             0.4,
             "rgb(253,219,199)"
            ],
            [
             0.5,
             "rgb(247,247,247)"
            ],
            [
             0.6,
             "rgb(209,229,240)"
            ],
            [
             0.7,
             "rgb(146,197,222)"
            ],
            [
             0.8,
             "rgb(67,147,195)"
            ],
            [
             0.9,
             "rgb(33,102,172)"
            ],
            [
             1,
             "rgb(5,48,97)"
            ]
           ],
           "sequential": [
            [
             0,
             "#440154"
            ],
            [
             0.1111111111111111,
             "#482878"
            ],
            [
             0.2222222222222222,
             "#3e4989"
            ],
            [
             0.3333333333333333,
             "#31688e"
            ],
            [
             0.4444444444444444,
             "#26828e"
            ],
            [
             0.5555555555555556,
             "#1f9e89"
            ],
            [
             0.6666666666666666,
             "#35b779"
            ],
            [
             0.7777777777777778,
             "#6ece58"
            ],
            [
             0.8888888888888888,
             "#b5de2b"
            ],
            [
             1,
             "#fde725"
            ]
           ],
           "sequentialminus": [
            [
             0,
             "#440154"
            ],
            [
             0.1111111111111111,
             "#482878"
            ],
            [
             0.2222222222222222,
             "#3e4989"
            ],
            [
             0.3333333333333333,
             "#31688e"
            ],
            [
             0.4444444444444444,
             "#26828e"
            ],
            [
             0.5555555555555556,
             "#1f9e89"
            ],
            [
             0.6666666666666666,
             "#35b779"
            ],
            [
             0.7777777777777778,
             "#6ece58"
            ],
            [
             0.8888888888888888,
             "#b5de2b"
            ],
            [
             1,
             "#fde725"
            ]
           ]
          },
          "colorway": [
           "#1F77B4",
           "#FF7F0E",
           "#2CA02C",
           "#D62728",
           "#9467BD",
           "#8C564B",
           "#E377C2",
           "#7F7F7F",
           "#BCBD22",
           "#17BECF"
          ],
          "font": {
           "color": "rgb(36,36,36)"
          },
          "geo": {
           "bgcolor": "white",
           "lakecolor": "white",
           "landcolor": "white",
           "showlakes": true,
           "showland": true,
           "subunitcolor": "white"
          },
          "hoverlabel": {
           "align": "left"
          },
          "hovermode": "closest",
          "mapbox": {
           "style": "light"
          },
          "paper_bgcolor": "white",
          "plot_bgcolor": "white",
          "polar": {
           "angularaxis": {
            "gridcolor": "rgb(232,232,232)",
            "linecolor": "rgb(36,36,36)",
            "showgrid": false,
            "showline": true,
            "ticks": "outside"
           },
           "bgcolor": "white",
           "radialaxis": {
            "gridcolor": "rgb(232,232,232)",
            "linecolor": "rgb(36,36,36)",
            "showgrid": false,
            "showline": true,
            "ticks": "outside"
           }
          },
          "scene": {
           "xaxis": {
            "backgroundcolor": "white",
            "gridcolor": "rgb(232,232,232)",
            "gridwidth": 2,
            "linecolor": "rgb(36,36,36)",
            "showbackground": true,
            "showgrid": false,
            "showline": true,
            "ticks": "outside",
            "zeroline": false,
            "zerolinecolor": "rgb(36,36,36)"
           },
           "yaxis": {
            "backgroundcolor": "white",
            "gridcolor": "rgb(232,232,232)",
            "gridwidth": 2,
            "linecolor": "rgb(36,36,36)",
            "showbackground": true,
            "showgrid": false,
            "showline": true,
            "ticks": "outside",
            "zeroline": false,
            "zerolinecolor": "rgb(36,36,36)"
           },
           "zaxis": {
            "backgroundcolor": "white",
            "gridcolor": "rgb(232,232,232)",
            "gridwidth": 2,
            "linecolor": "rgb(36,36,36)",
            "showbackground": true,
            "showgrid": false,
            "showline": true,
            "ticks": "outside",
            "zeroline": false,
            "zerolinecolor": "rgb(36,36,36)"
           }
          },
          "shapedefaults": {
           "fillcolor": "black",
           "line": {
            "width": 0
           },
           "opacity": 0.3
          },
          "ternary": {
           "aaxis": {
            "gridcolor": "rgb(232,232,232)",
            "linecolor": "rgb(36,36,36)",
            "showgrid": false,
            "showline": true,
            "ticks": "outside"
           },
           "baxis": {
            "gridcolor": "rgb(232,232,232)",
            "linecolor": "rgb(36,36,36)",
            "showgrid": false,
            "showline": true,
            "ticks": "outside"
           },
           "bgcolor": "white",
           "caxis": {
            "gridcolor": "rgb(232,232,232)",
            "linecolor": "rgb(36,36,36)",
            "showgrid": false,
            "showline": true,
            "ticks": "outside"
           }
          },
          "title": {
           "x": 0.05
          },
          "xaxis": {
           "automargin": true,
           "gridcolor": "rgb(232,232,232)",
           "linecolor": "rgb(36,36,36)",
           "showgrid": false,
           "showline": true,
           "ticks": "outside",
           "title": {
            "standoff": 15
           },
           "zeroline": false,
           "zerolinecolor": "rgb(36,36,36)"
          },
          "yaxis": {
           "automargin": true,
           "gridcolor": "rgb(232,232,232)",
           "linecolor": "rgb(36,36,36)",
           "showgrid": false,
           "showline": true,
           "ticks": "outside",
           "title": {
            "standoff": 15
           },
           "zeroline": false,
           "zerolinecolor": "rgb(36,36,36)"
          }
         }
        },
        "title": {
         "text": "Status of Person by Year"
        },
        "width": 1000,
        "xaxis": {
         "title": {
          "text": "Year"
         }
        },
        "yaxis": {
         "title": {
          "text": "Count"
         }
        }
       }
      },
      "text/html": [
       "<div>                            <div id=\"7ebcd250-8b2c-41bc-92da-892c97a43777\" class=\"plotly-graph-div\" style=\"height:800px; width:1000px;\"></div>            <script type=\"text/javascript\">                require([\"plotly\"], function(Plotly) {                    window.PLOTLYENV=window.PLOTLYENV || {};                                    if (document.getElementById(\"7ebcd250-8b2c-41bc-92da-892c97a43777\")) {                    Plotly.newPlot(                        \"7ebcd250-8b2c-41bc-92da-892c97a43777\",                        [{\"marker\":{\"color\":\"#2A66DE\"},\"name\":\"female\",\"type\":\"bar\",\"x\":[[2013,2013,2013,2014,2014,2014,2015,2015,2015,2016,2016,2016,2017,2017,2017,2018,2018,2018],[\"Injured\",\"Killed\",\"Unharmed\",\"Injured\",\"Killed\",\"Unharmed\",\"Injured\",\"Killed\",\"Unharmed\",\"Injured\",\"Killed\",\"Unharmed\",\"Injured\",\"Killed\",\"Unharmed\",\"Injured\",\"Killed\",\"Unharmed\"]],\"y\":[199,79,4,2897,1687,4979,3509,1944,4176,3977,2215,4070,120,2307,2906,845,591,728]},{\"marker\":{\"color\":\"#FFC32B\"},\"name\":\"male\",\"type\":\"bar\",\"x\":[[2013,2013,2013,2014,2014,2014,2015,2015,2015,2016,2016,2016,2017,2017,2017,2018,2018,2018],[\"Injured\",\"Killed\",\"Unharmed\",\"Injured\",\"Killed\",\"Unharmed\",\"Injured\",\"Killed\",\"Unharmed\",\"Injured\",\"Killed\",\"Unharmed\",\"Injured\",\"Killed\",\"Unharmed\",\"Injured\",\"Killed\",\"Unharmed\"]],\"y\":[586,230,152,16712,9579,38246,21019,11310,34119,23565,12597,36769,23423,12913,34241,4652,2867,7980]}],                        {\"autosize\":false,\"barmode\":\"stack\",\"height\":800,\"template\":{\"data\":{\"bar\":[{\"error_x\":{\"color\":\"rgb(36,36,36)\"},\"error_y\":{\"color\":\"rgb(36,36,36)\"},\"marker\":{\"line\":{\"color\":\"white\",\"width\":0.5},\"pattern\":{\"fillmode\":\"overlay\",\"size\":10,\"solidity\":0.2}},\"type\":\"bar\"}],\"barpolar\":[{\"marker\":{\"line\":{\"color\":\"white\",\"width\":0.5},\"pattern\":{\"fillmode\":\"overlay\",\"size\":10,\"solidity\":0.2}},\"type\":\"barpolar\"}],\"carpet\":[{\"aaxis\":{\"endlinecolor\":\"rgb(36,36,36)\",\"gridcolor\":\"white\",\"linecolor\":\"white\",\"minorgridcolor\":\"white\",\"startlinecolor\":\"rgb(36,36,36)\"},\"baxis\":{\"endlinecolor\":\"rgb(36,36,36)\",\"gridcolor\":\"white\",\"linecolor\":\"white\",\"minorgridcolor\":\"white\",\"startlinecolor\":\"rgb(36,36,36)\"},\"type\":\"carpet\"}],\"choropleth\":[{\"colorbar\":{\"outlinewidth\":1,\"tickcolor\":\"rgb(36,36,36)\",\"ticks\":\"outside\"},\"type\":\"choropleth\"}],\"contour\":[{\"colorbar\":{\"outlinewidth\":1,\"tickcolor\":\"rgb(36,36,36)\",\"ticks\":\"outside\"},\"colorscale\":[[0.0,\"#440154\"],[0.1111111111111111,\"#482878\"],[0.2222222222222222,\"#3e4989\"],[0.3333333333333333,\"#31688e\"],[0.4444444444444444,\"#26828e\"],[0.5555555555555556,\"#1f9e89\"],[0.6666666666666666,\"#35b779\"],[0.7777777777777778,\"#6ece58\"],[0.8888888888888888,\"#b5de2b\"],[1.0,\"#fde725\"]],\"type\":\"contour\"}],\"contourcarpet\":[{\"colorbar\":{\"outlinewidth\":1,\"tickcolor\":\"rgb(36,36,36)\",\"ticks\":\"outside\"},\"type\":\"contourcarpet\"}],\"heatmap\":[{\"colorbar\":{\"outlinewidth\":1,\"tickcolor\":\"rgb(36,36,36)\",\"ticks\":\"outside\"},\"colorscale\":[[0.0,\"#440154\"],[0.1111111111111111,\"#482878\"],[0.2222222222222222,\"#3e4989\"],[0.3333333333333333,\"#31688e\"],[0.4444444444444444,\"#26828e\"],[0.5555555555555556,\"#1f9e89\"],[0.6666666666666666,\"#35b779\"],[0.7777777777777778,\"#6ece58\"],[0.8888888888888888,\"#b5de2b\"],[1.0,\"#fde725\"]],\"type\":\"heatmap\"}],\"heatmapgl\":[{\"colorbar\":{\"outlinewidth\":1,\"tickcolor\":\"rgb(36,36,36)\",\"ticks\":\"outside\"},\"colorscale\":[[0.0,\"#440154\"],[0.1111111111111111,\"#482878\"],[0.2222222222222222,\"#3e4989\"],[0.3333333333333333,\"#31688e\"],[0.4444444444444444,\"#26828e\"],[0.5555555555555556,\"#1f9e89\"],[0.6666666666666666,\"#35b779\"],[0.7777777777777778,\"#6ece58\"],[0.8888888888888888,\"#b5de2b\"],[1.0,\"#fde725\"]],\"type\":\"heatmapgl\"}],\"histogram\":[{\"marker\":{\"line\":{\"color\":\"white\",\"width\":0.6}},\"type\":\"histogram\"}],\"histogram2d\":[{\"colorbar\":{\"outlinewidth\":1,\"tickcolor\":\"rgb(36,36,36)\",\"ticks\":\"outside\"},\"colorscale\":[[0.0,\"#440154\"],[0.1111111111111111,\"#482878\"],[0.2222222222222222,\"#3e4989\"],[0.3333333333333333,\"#31688e\"],[0.4444444444444444,\"#26828e\"],[0.5555555555555556,\"#1f9e89\"],[0.6666666666666666,\"#35b779\"],[0.7777777777777778,\"#6ece58\"],[0.8888888888888888,\"#b5de2b\"],[1.0,\"#fde725\"]],\"type\":\"histogram2d\"}],\"histogram2dcontour\":[{\"colorbar\":{\"outlinewidth\":1,\"tickcolor\":\"rgb(36,36,36)\",\"ticks\":\"outside\"},\"colorscale\":[[0.0,\"#440154\"],[0.1111111111111111,\"#482878\"],[0.2222222222222222,\"#3e4989\"],[0.3333333333333333,\"#31688e\"],[0.4444444444444444,\"#26828e\"],[0.5555555555555556,\"#1f9e89\"],[0.6666666666666666,\"#35b779\"],[0.7777777777777778,\"#6ece58\"],[0.8888888888888888,\"#b5de2b\"],[1.0,\"#fde725\"]],\"type\":\"histogram2dcontour\"}],\"mesh3d\":[{\"colorbar\":{\"outlinewidth\":1,\"tickcolor\":\"rgb(36,36,36)\",\"ticks\":\"outside\"},\"type\":\"mesh3d\"}],\"parcoords\":[{\"line\":{\"colorbar\":{\"outlinewidth\":1,\"tickcolor\":\"rgb(36,36,36)\",\"ticks\":\"outside\"}},\"type\":\"parcoords\"}],\"pie\":[{\"automargin\":true,\"type\":\"pie\"}],\"scatter\":[{\"marker\":{\"colorbar\":{\"outlinewidth\":1,\"tickcolor\":\"rgb(36,36,36)\",\"ticks\":\"outside\"}},\"type\":\"scatter\"}],\"scatter3d\":[{\"line\":{\"colorbar\":{\"outlinewidth\":1,\"tickcolor\":\"rgb(36,36,36)\",\"ticks\":\"outside\"}},\"marker\":{\"colorbar\":{\"outlinewidth\":1,\"tickcolor\":\"rgb(36,36,36)\",\"ticks\":\"outside\"}},\"type\":\"scatter3d\"}],\"scattercarpet\":[{\"marker\":{\"colorbar\":{\"outlinewidth\":1,\"tickcolor\":\"rgb(36,36,36)\",\"ticks\":\"outside\"}},\"type\":\"scattercarpet\"}],\"scattergeo\":[{\"marker\":{\"colorbar\":{\"outlinewidth\":1,\"tickcolor\":\"rgb(36,36,36)\",\"ticks\":\"outside\"}},\"type\":\"scattergeo\"}],\"scattergl\":[{\"marker\":{\"colorbar\":{\"outlinewidth\":1,\"tickcolor\":\"rgb(36,36,36)\",\"ticks\":\"outside\"}},\"type\":\"scattergl\"}],\"scattermapbox\":[{\"marker\":{\"colorbar\":{\"outlinewidth\":1,\"tickcolor\":\"rgb(36,36,36)\",\"ticks\":\"outside\"}},\"type\":\"scattermapbox\"}],\"scatterpolar\":[{\"marker\":{\"colorbar\":{\"outlinewidth\":1,\"tickcolor\":\"rgb(36,36,36)\",\"ticks\":\"outside\"}},\"type\":\"scatterpolar\"}],\"scatterpolargl\":[{\"marker\":{\"colorbar\":{\"outlinewidth\":1,\"tickcolor\":\"rgb(36,36,36)\",\"ticks\":\"outside\"}},\"type\":\"scatterpolargl\"}],\"scatterternary\":[{\"marker\":{\"colorbar\":{\"outlinewidth\":1,\"tickcolor\":\"rgb(36,36,36)\",\"ticks\":\"outside\"}},\"type\":\"scatterternary\"}],\"surface\":[{\"colorbar\":{\"outlinewidth\":1,\"tickcolor\":\"rgb(36,36,36)\",\"ticks\":\"outside\"},\"colorscale\":[[0.0,\"#440154\"],[0.1111111111111111,\"#482878\"],[0.2222222222222222,\"#3e4989\"],[0.3333333333333333,\"#31688e\"],[0.4444444444444444,\"#26828e\"],[0.5555555555555556,\"#1f9e89\"],[0.6666666666666666,\"#35b779\"],[0.7777777777777778,\"#6ece58\"],[0.8888888888888888,\"#b5de2b\"],[1.0,\"#fde725\"]],\"type\":\"surface\"}],\"table\":[{\"cells\":{\"fill\":{\"color\":\"rgb(237,237,237)\"},\"line\":{\"color\":\"white\"}},\"header\":{\"fill\":{\"color\":\"rgb(217,217,217)\"},\"line\":{\"color\":\"white\"}},\"type\":\"table\"}]},\"layout\":{\"annotationdefaults\":{\"arrowhead\":0,\"arrowwidth\":1},\"autotypenumbers\":\"strict\",\"coloraxis\":{\"colorbar\":{\"outlinewidth\":1,\"tickcolor\":\"rgb(36,36,36)\",\"ticks\":\"outside\"}},\"colorscale\":{\"diverging\":[[0.0,\"rgb(103,0,31)\"],[0.1,\"rgb(178,24,43)\"],[0.2,\"rgb(214,96,77)\"],[0.3,\"rgb(244,165,130)\"],[0.4,\"rgb(253,219,199)\"],[0.5,\"rgb(247,247,247)\"],[0.6,\"rgb(209,229,240)\"],[0.7,\"rgb(146,197,222)\"],[0.8,\"rgb(67,147,195)\"],[0.9,\"rgb(33,102,172)\"],[1.0,\"rgb(5,48,97)\"]],\"sequential\":[[0.0,\"#440154\"],[0.1111111111111111,\"#482878\"],[0.2222222222222222,\"#3e4989\"],[0.3333333333333333,\"#31688e\"],[0.4444444444444444,\"#26828e\"],[0.5555555555555556,\"#1f9e89\"],[0.6666666666666666,\"#35b779\"],[0.7777777777777778,\"#6ece58\"],[0.8888888888888888,\"#b5de2b\"],[1.0,\"#fde725\"]],\"sequentialminus\":[[0.0,\"#440154\"],[0.1111111111111111,\"#482878\"],[0.2222222222222222,\"#3e4989\"],[0.3333333333333333,\"#31688e\"],[0.4444444444444444,\"#26828e\"],[0.5555555555555556,\"#1f9e89\"],[0.6666666666666666,\"#35b779\"],[0.7777777777777778,\"#6ece58\"],[0.8888888888888888,\"#b5de2b\"],[1.0,\"#fde725\"]]},\"colorway\":[\"#1F77B4\",\"#FF7F0E\",\"#2CA02C\",\"#D62728\",\"#9467BD\",\"#8C564B\",\"#E377C2\",\"#7F7F7F\",\"#BCBD22\",\"#17BECF\"],\"font\":{\"color\":\"rgb(36,36,36)\"},\"geo\":{\"bgcolor\":\"white\",\"lakecolor\":\"white\",\"landcolor\":\"white\",\"showlakes\":true,\"showland\":true,\"subunitcolor\":\"white\"},\"hoverlabel\":{\"align\":\"left\"},\"hovermode\":\"closest\",\"mapbox\":{\"style\":\"light\"},\"paper_bgcolor\":\"white\",\"plot_bgcolor\":\"white\",\"polar\":{\"angularaxis\":{\"gridcolor\":\"rgb(232,232,232)\",\"linecolor\":\"rgb(36,36,36)\",\"showgrid\":false,\"showline\":true,\"ticks\":\"outside\"},\"bgcolor\":\"white\",\"radialaxis\":{\"gridcolor\":\"rgb(232,232,232)\",\"linecolor\":\"rgb(36,36,36)\",\"showgrid\":false,\"showline\":true,\"ticks\":\"outside\"}},\"scene\":{\"xaxis\":{\"backgroundcolor\":\"white\",\"gridcolor\":\"rgb(232,232,232)\",\"gridwidth\":2,\"linecolor\":\"rgb(36,36,36)\",\"showbackground\":true,\"showgrid\":false,\"showline\":true,\"ticks\":\"outside\",\"zeroline\":false,\"zerolinecolor\":\"rgb(36,36,36)\"},\"yaxis\":{\"backgroundcolor\":\"white\",\"gridcolor\":\"rgb(232,232,232)\",\"gridwidth\":2,\"linecolor\":\"rgb(36,36,36)\",\"showbackground\":true,\"showgrid\":false,\"showline\":true,\"ticks\":\"outside\",\"zeroline\":false,\"zerolinecolor\":\"rgb(36,36,36)\"},\"zaxis\":{\"backgroundcolor\":\"white\",\"gridcolor\":\"rgb(232,232,232)\",\"gridwidth\":2,\"linecolor\":\"rgb(36,36,36)\",\"showbackground\":true,\"showgrid\":false,\"showline\":true,\"ticks\":\"outside\",\"zeroline\":false,\"zerolinecolor\":\"rgb(36,36,36)\"}},\"shapedefaults\":{\"fillcolor\":\"black\",\"line\":{\"width\":0},\"opacity\":0.3},\"ternary\":{\"aaxis\":{\"gridcolor\":\"rgb(232,232,232)\",\"linecolor\":\"rgb(36,36,36)\",\"showgrid\":false,\"showline\":true,\"ticks\":\"outside\"},\"baxis\":{\"gridcolor\":\"rgb(232,232,232)\",\"linecolor\":\"rgb(36,36,36)\",\"showgrid\":false,\"showline\":true,\"ticks\":\"outside\"},\"bgcolor\":\"white\",\"caxis\":{\"gridcolor\":\"rgb(232,232,232)\",\"linecolor\":\"rgb(36,36,36)\",\"showgrid\":false,\"showline\":true,\"ticks\":\"outside\"}},\"title\":{\"x\":0.05},\"xaxis\":{\"automargin\":true,\"gridcolor\":\"rgb(232,232,232)\",\"linecolor\":\"rgb(36,36,36)\",\"showgrid\":false,\"showline\":true,\"ticks\":\"outside\",\"title\":{\"standoff\":15},\"zeroline\":false,\"zerolinecolor\":\"rgb(36,36,36)\"},\"yaxis\":{\"automargin\":true,\"gridcolor\":\"rgb(232,232,232)\",\"linecolor\":\"rgb(36,36,36)\",\"showgrid\":false,\"showline\":true,\"ticks\":\"outside\",\"title\":{\"standoff\":15},\"zeroline\":false,\"zerolinecolor\":\"rgb(36,36,36)\"}}},\"title\":{\"text\":\"Status of Person by Year\"},\"width\":1000,\"xaxis\":{\"title\":{\"text\":\"Year\"}},\"yaxis\":{\"title\":{\"text\":\"Count\"}}},                        {\"responsive\": true}                    ).then(function(){\n",
       "                            \n",
       "var gd = document.getElementById('7ebcd250-8b2c-41bc-92da-892c97a43777');\n",
       "var x = new MutationObserver(function (mutations, observer) {{\n",
       "        var display = window.getComputedStyle(gd).display;\n",
       "        if (!display || display === 'none') {{\n",
       "            console.log([gd, 'removed!']);\n",
       "            Plotly.purge(gd);\n",
       "            observer.disconnect();\n",
       "        }}\n",
       "}});\n",
       "\n",
       "// Listen for the removal of the full notebook cells\n",
       "var notebookContainer = gd.closest('#notebook-container');\n",
       "if (notebookContainer) {{\n",
       "    x.observe(notebookContainer, {childList: true});\n",
       "}}\n",
       "\n",
       "// Listen for the clearing of the current output cell\n",
       "var outputEl = gd.closest('.output');\n",
       "if (outputEl) {{\n",
       "    x.observe(outputEl, {childList: true});\n",
       "}}\n",
       "\n",
       "                        })                };                });            </script>        </div>"
      ]
     },
     "metadata": {},
     "output_type": "display_data"
    }
   ],
   "source": [
    "import plotly.graph_objects as go\n",
    "\n",
    "fig = go.Figure()\n",
    "\n",
    "fig.update_layout(\n",
    "    template=\"simple_white\",\n",
    "    xaxis=dict(title_text=\"Year\"),\n",
    "    yaxis=dict(title_text=\"Count\"),\n",
    "    barmode=\"stack\",\n",
    "    autosize=False,\n",
    "    width=1000,\n",
    "    height=800,\n",
    "    title=\"Status of Person by Year\")\n",
    "    \n",
    "\n",
    "colors = [\"#2A66DE\", \"#FFC32B\"]\n",
    "\n",
    "for r, c in zip(stacked_df.gender.unique(), colors):\n",
    "    plot_df = stacked_df[stacked_df.gender == r]\n",
    "    fig.add_trace(\n",
    "        go.Bar(x=[plot_df.year, plot_df.status], y=plot_df.cnt, name=r, marker_color=c),\n",
    "    )\n",
    "\n",
    "fig\n"
   ]
  },
  {
   "cell_type": "code",
   "execution_count": 46,
   "id": "d24e99fb",
   "metadata": {
    "scrolled": true
   },
   "outputs": [
    {
     "data": {
      "text/plain": [
       "gender        status  \n",
       "Female        Arrested       773\n",
       "              Injured      15547\n",
       "              Killed        8823\n",
       "              Unharmed     16863\n",
       "Male          Arrested      8107\n",
       "              Injured      89957\n",
       "              Killed       49496\n",
       "              Unharmed    151507\n",
       "Male, female  Injured          1\n",
       "Name: incident_id, dtype: int64"
      ]
     },
     "execution_count": 46,
     "metadata": {},
     "output_type": "execute_result"
    }
   ],
   "source": [
    "gender_info=df_demo.groupby(['gender', 'status'])['incident_id'].count()\n",
    "gender_info"
   ]
  },
  {
   "cell_type": "code",
   "execution_count": 47,
   "id": "3f73ee57",
   "metadata": {},
   "outputs": [
    {
     "data": {
      "image/png": "[encoded data removed]",
      "text/plain": [
       "<Figure size 720x576 with 1 Axes>"
      ]
     },
     "metadata": {
      "needs_background": "light"
     },
     "output_type": "display_data"
    }
   ],
   "source": [
    "x = ['Injured', 'Killed', 'Unharmed']\n",
    "y1 = [15547, 8823, 16863]\n",
    "y2 = [89957, 49496, 151507]\n",
    "  \n",
    "fig, ax=plt.subplots(1,figsize=(10,8))\n",
    "plt.bar(x, y1)\n",
    "plt.bar(x, y2, bottom=y1)\n",
    "plt.legend([\"Female\", \"Male\"])\n",
    "plt.title('Status of Person by Gender Cumulative 2013-2018')\n",
    "\n",
    "plt.show()"
   ]
  },
  {
   "cell_type": "code",
   "execution_count": 49,
   "id": "b339bc09",
   "metadata": {},
   "outputs": [
    {
     "data": {
      "text/html": [
       "<div>\n",
       "<style scoped>\n",
       "    .dataframe tbody tr th:only-of-type {\n",
       "        vertical-align: middle;\n",
       "    }\n",
       "\n",
       "    .dataframe tbody tr th {\n",
       "        vertical-align: top;\n",
       "    }\n",
       "\n",
       "    .dataframe thead th {\n",
       "        text-align: right;\n",
       "    }\n",
       "</style>\n",
       "<table border=\"1\" class=\"dataframe\">\n",
       "  <thead>\n",
       "    <tr style=\"text-align: right;\">\n",
       "      <th></th>\n",
       "      <th>age</th>\n",
       "    </tr>\n",
       "    <tr>\n",
       "      <th>gender</th>\n",
       "      <th></th>\n",
       "    </tr>\n",
       "  </thead>\n",
       "  <tbody>\n",
       "    <tr>\n",
       "      <th>Female</th>\n",
       "      <td>31.712739</td>\n",
       "    </tr>\n",
       "    <tr>\n",
       "      <th>Male</th>\n",
       "      <td>29.226407</td>\n",
       "    </tr>\n",
       "    <tr>\n",
       "      <th>Male, female</th>\n",
       "      <td>32.000000</td>\n",
       "    </tr>\n",
       "  </tbody>\n",
       "</table>\n",
       "</div>"
      ],
      "text/plain": [
       "                    age\n",
       "gender                 \n",
       "Female        31.712739\n",
       "Male          29.226407\n",
       "Male, female  32.000000"
      ]
     },
     "execution_count": 49,
     "metadata": {},
     "output_type": "execute_result"
    }
   ],
   "source": [
    "df_demo[[\"age\",\"gender\"]].groupby(\"gender\").mean()"
   ]
  },
  {
   "cell_type": "code",
   "execution_count": 50,
   "id": "59ecfe5a",
   "metadata": {
    "scrolled": false
   },
   "outputs": [
    {
     "data": {
      "text/plain": [
       "385476"
      ]
     },
     "execution_count": 50,
     "metadata": {},
     "output_type": "execute_result"
    }
   ],
   "source": [
    "no_g=(df_demo[\"type\"]==\"Subject-Suspect\").count()\n",
    "no_g"
   ]
  },
  {
   "cell_type": "code",
   "execution_count": 54,
   "id": "cba0304f",
   "metadata": {
    "scrolled": true
   },
   "outputs": [],
   "source": [
    "gender_sus=df_demo[df_demo[\"type\"]==\"Subject-Suspect\"][[\"gender\"]].dropna(how=\"any\")"
   ]
  },
  {
   "cell_type": "code",
   "execution_count": 52,
   "id": "e6cd2aee",
   "metadata": {},
   "outputs": [
    {
     "data": {
      "text/plain": [
       "159548"
      ]
     },
     "execution_count": 52,
     "metadata": {},
     "output_type": "execute_result"
    }
   ],
   "source": [
    "men_suspects=len(gender_sus[gender_sus['gender'] == 'Male'])\n",
    "men_suspects"
   ]
  },
  {
   "cell_type": "code",
   "execution_count": 53,
   "id": "ee9c3a97",
   "metadata": {},
   "outputs": [
    {
     "data": {
      "text/plain": [
       "11487"
      ]
     },
     "execution_count": 53,
     "metadata": {},
     "output_type": "execute_result"
    }
   ],
   "source": [
    "women_suspects=len(gender_sus[gender_sus['gender'] == 'Female'])\n",
    "women_suspects"
   ]
  },
  {
   "cell_type": "code",
   "execution_count": 55,
   "id": "21c0ed03",
   "metadata": {},
   "outputs": [
    {
     "data": {
      "text/plain": [
       "171035"
      ]
     },
     "execution_count": 55,
     "metadata": {},
     "output_type": "execute_result"
    }
   ],
   "source": [
    "men_suspects+women_suspects"
   ]
  },
  {
   "cell_type": "code",
   "execution_count": 45,
   "id": "28e271d2",
   "metadata": {
    "scrolled": false
   },
   "outputs": [],
   "source": [
    "#def len_men(df):\n",
    "    #return len(df[df['gender'] == 'Male'])"
   ]
  },
  {
   "cell_type": "code",
   "execution_count": 46,
   "id": "3a30ce23",
   "metadata": {},
   "outputs": [],
   "source": [
    "#def len_wommen(df):\n",
    "    #return len(df[df['gender'] == 'Male'])"
   ]
  }
 ],
 "metadata": {
  "kernelspec": {
   "display_name": "Python 3",
   "language": "python",
   "name": "python3"
  },
  "language_info": {
   "codemirror_mode": {
    "name": "ipython",
    "version": 3
   },
   "file_extension": ".py",
   "mimetype": "text/x-python",
   "name": "python",
   "nbconvert_exporter": "python",
   "pygments_lexer": "ipython3",
   "version": "3.8.8"
  }
 },
 "nbformat": 4,
 "nbformat_minor": 5
}
