{
 "cells": [
  {
   "cell_type": "code",
   "execution_count": null,
   "id": "77e31845-9c8d-4a6b-93ea-fcd842a6c072",
   "metadata": {},
   "outputs": [],
   "source": [
    "sup"
   ]
  }
 ],
 "metadata": {
  "kernelspec": {
   "display_name": "Python 3",
   "language": "python",
   "name": "python3"
  },
  "language_info": {
   "codemirror_mode": {
    "name": "ipython",
    "version": 3
   },
   "file_extension": ".py",
   "mimetype": "text/x-python",
   "name": "python",
   "nbconvert_exporter": "python",
   "pygments_lexer": "ipython3",
   "version": "3.8.8"
  }
 },
 "nbformat": 4,
 "nbformat_minor": 5
}
